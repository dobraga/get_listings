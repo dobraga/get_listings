{
 "cells": [
  {
   "cell_type": "code",
   "execution_count": null,
   "metadata": {},
   "outputs": [],
   "source": [
    "import pandas as pd\n",
    "import jsonlines\n",
    "from geopy.distance import distance\n",
    "pd.set_option('display.max_columns', None)\n",
    "pd.set_option('display.max_colwidth', 200)"
   ]
  },
  {
   "cell_type": "code",
   "execution_count": null,
   "metadata": {},
   "outputs": [],
   "source": [
    "df_metro = pd.read_json(\"../data/input/metro.jsonlines\", lines=True)\n",
    "df_metro"
   ]
  },
  {
   "cell_type": "code",
   "execution_count": null,
   "metadata": {},
   "outputs": [],
   "source": [
    "data = []\n",
    "with jsonlines.open('../data/input/BR_Rio_de_Janeiro_NULL_Rio_de_Janeiro_Zona_Oeste_Barra_da_Tijuca.jsonl') as reader:\n",
    "    for obj in reader:\n",
    "        data.append(obj)"
   ]
  },
  {
   "cell_type": "code",
   "execution_count": null,
   "metadata": {},
   "outputs": [],
   "source": [
    "df = pd.json_normalize(data, sep='_')\n",
    "df.sample(2)"
   ]
  },
  {
   "cell_type": "code",
   "execution_count": null,
   "metadata": {},
   "outputs": [],
   "source": [
    "df = pd.json_normalize(data, sep=\"_\")\n",
    "df.loc[:, \"media\"] = df.medias.apply(\n",
    "    lambda x: [i[\"url\"].format(action=\"fit-in\", width=870, height=653) for i in x]\n",
    ")\n",
    "df.loc[:, \"created_at\"] = pd.to_datetime(df.listing_createdAt)\n",
    "df.loc[:, \"updated_at\"] = pd.to_datetime(df.listing_updatedAt)\n",
    "df.loc[:, \"usable_area\"] = df.listing_usableAreas.str[0].astype(int)\n",
    "df.loc[:, \"floors\"] = df.listing_floors.str[0].fillna(-1)\n",
    "df.loc[:, \"units_on_the_floor\"] = df.listing_unitsOnTheFloor.fillna(-1)\n",
    "df.loc[:, \"unit_floor\"] = df.listing_unitFloor.fillna(-1)\n",
    "df.loc[:, \"type_unit\"] = df.listing_unitTypes.str[0]\n",
    "df.loc[:, \"bedrooms\"] = df.listing_bedrooms.str[0]\n",
    "df.loc[:, \"bathrooms\"] = df.listing_bathrooms.str[0]\n",
    "df.loc[:, \"suites\"] = df.listing_suites.str[0].fillna(0)\n",
    "df.loc[:, \"parking_spaces\"] = df.listing_parkingSpaces.str[0].fillna(0)"
   ]
  },
  {
   "cell_type": "code",
   "execution_count": null,
   "metadata": {},
   "outputs": [],
   "source": [
    "df = pd.concat(\n",
    "    [\n",
    "        df,\n",
    "        df.listing_pricingInfos.apply(\n",
    "            lambda x: [\n",
    "                {\n",
    "                    \"price\": p.get(\"price\", 0),\n",
    "                    \"condo_fee\": p.get(\"monthlyCondoFee\", 0),\n",
    "                }\n",
    "                for p in x\n",
    "                if p[\"businessType\"] == \"RENTAL\"\n",
    "            ][0]\n",
    "        )\n",
    "        .apply(pd.Series)\n",
    "        .astype(int),\n",
    "    ],\n",
    "    axis=1,\n",
    ").assign(total_fee=lambda x: x[\"price\"] + x[\"condo_fee\"])\n",
    "\n",
    "fl_zap = df[\"listing_portal\"] == \"GRUPOZAP\"\n",
    "df.loc[fl_zap, \"origin\"] = \"zapimoveis\"\n",
    "df.loc[~fl_zap, \"origin\"] = \"vivareal\"\n",
    "\n",
    "df.loc[:, \"url\"] = df[[\"origin\", \"link_href\"]].apply(\n",
    "    lambda x: \"https://www.{}.com.br{}\".format(*x), axis=1\n",
    ")"
   ]
  },
  {
   "cell_type": "code",
   "execution_count": null,
   "metadata": {},
   "outputs": [],
   "source": [
    "df[df.bedrooms.isna()].url"
   ]
  },
  {
   "cell_type": "code",
   "execution_count": null,
   "metadata": {},
   "outputs": [],
   "source": []
  },
  {
   "cell_type": "code",
   "execution_count": null,
   "metadata": {},
   "outputs": [],
   "source": []
  },
  {
   "cell_type": "code",
   "execution_count": null,
   "metadata": {},
   "outputs": [],
   "source": []
  },
  {
   "cell_type": "code",
   "execution_count": null,
   "metadata": {},
   "outputs": [],
   "source": []
  },
  {
   "cell_type": "code",
   "execution_count": null,
   "metadata": {},
   "outputs": [],
   "source": []
  },
  {
   "cell_type": "code",
   "execution_count": null,
   "metadata": {},
   "outputs": [],
   "source": []
  },
  {
   "cell_type": "code",
   "execution_count": null,
   "metadata": {},
   "outputs": [],
   "source": []
  },
  {
   "cell_type": "code",
   "execution_count": null,
   "metadata": {},
   "outputs": [],
   "source": []
  },
  {
   "cell_type": "code",
   "execution_count": null,
   "metadata": {},
   "outputs": [],
   "source": [
    "df[df.url.str.contains(\"2495611515\")]"
   ]
  },
  {
   "cell_type": "code",
   "execution_count": null,
   "metadata": {},
   "outputs": [],
   "source": []
  },
  {
   "cell_type": "code",
   "execution_count": null,
   "metadata": {},
   "outputs": [],
   "source": []
  },
  {
   "cell_type": "code",
   "execution_count": null,
   "metadata": {},
   "outputs": [],
   "source": []
  },
  {
   "cell_type": "code",
   "execution_count": null,
   "metadata": {},
   "outputs": [],
   "source": [
    "df.listing_bathrooms"
   ]
  },
  {
   "cell_type": "code",
   "execution_count": null,
   "metadata": {},
   "outputs": [],
   "source": [
    "df.listing_usableAreas.str[0]"
   ]
  },
  {
   "cell_type": "code",
   "execution_count": null,
   "metadata": {},
   "outputs": [],
   "source": []
  },
  {
   "cell_type": "code",
   "execution_count": null,
   "metadata": {},
   "outputs": [],
   "source": []
  },
  {
   "cell_type": "code",
   "execution_count": null,
   "metadata": {},
   "outputs": [],
   "source": []
  },
  {
   "cell_type": "code",
   "execution_count": null,
   "metadata": {},
   "outputs": [],
   "source": []
  },
  {
   "cell_type": "code",
   "execution_count": null,
   "metadata": {},
   "outputs": [],
   "source": []
  },
  {
   "cell_type": "code",
   "execution_count": null,
   "metadata": {},
   "outputs": [],
   "source": []
  },
  {
   "cell_type": "code",
   "execution_count": null,
   "metadata": {},
   "outputs": [],
   "source": []
  },
  {
   "cell_type": "code",
   "execution_count": null,
   "metadata": {},
   "outputs": [],
   "source": [
    "t = df[df.listing_pricingInfos.apply(lambda x: len(x)) == 2].listing_pricingInfos[41]\n",
    "t"
   ]
  },
  {
   "cell_type": "code",
   "execution_count": null,
   "metadata": {},
   "outputs": [],
   "source": [
    "t[1]"
   ]
  },
  {
   "cell_type": "code",
   "execution_count": null,
   "metadata": {},
   "outputs": [],
   "source": [
    "[a for a in t if a[\"businessType\"] == 'RENTAL']"
   ]
  },
  {
   "cell_type": "code",
   "execution_count": null,
   "metadata": {},
   "outputs": [],
   "source": []
  },
  {
   "cell_type": "code",
   "execution_count": null,
   "metadata": {},
   "outputs": [],
   "source": []
  },
  {
   "cell_type": "code",
   "execution_count": null,
   "metadata": {},
   "outputs": [],
   "source": []
  },
  {
   "cell_type": "code",
   "execution_count": null,
   "metadata": {},
   "outputs": [],
   "source": [
    "df"
   ]
  },
  {
   "cell_type": "code",
   "execution_count": null,
   "metadata": {},
   "outputs": [],
   "source": [
    "pd.concat(\n",
    "        [\n",
    "            df,\n",
    "            df.listing_pricingInfos.apply(\n",
    "                lambda x: [\n",
    "                    {\n",
    "                        \"price\": p.get(\"price\", 0),\n",
    "                        \"condo_fee\": p.get(\"monthlyCondoFee\", 0),\n",
    "                    }\n",
    "                    for p in x\n",
    "                    if p[\"businessType\"] == \"RENTAL\"\n",
    "                ][0]\n",
    "            ).apply(pd.Series).astype(int)\n",
    "        ],\n",
    "        axis=1,\n",
    "    ).dtypes"
   ]
  },
  {
   "cell_type": "code",
   "execution_count": null,
   "metadata": {},
   "outputs": [],
   "source": []
  },
  {
   "cell_type": "code",
   "execution_count": null,
   "metadata": {},
   "outputs": [],
   "source": [
    "df.listing_pricingInfos.apply(lambda x: [{\"price\": p.get(\"price\", 0), \"condo_fee\": p.get(\"monthlyCondoFee\", 0)} for p in x if p[\"businessType\"] == 'RENTAL'][0]).apply(pd.Series).astype(int)"
   ]
  },
  {
   "cell_type": "code",
   "execution_count": null,
   "metadata": {},
   "outputs": [],
   "source": []
  },
  {
   "cell_type": "code",
   "execution_count": null,
   "metadata": {},
   "outputs": [],
   "source": []
  },
  {
   "cell_type": "code",
   "execution_count": null,
   "metadata": {},
   "outputs": [],
   "source": [
    "df.listing_unitsOnTheFloor"
   ]
  },
  {
   "cell_type": "code",
   "execution_count": null,
   "metadata": {},
   "outputs": [],
   "source": [
    "df.listing_pricingInfos[0]"
   ]
  },
  {
   "cell_type": "code",
   "execution_count": null,
   "metadata": {},
   "outputs": [],
   "source": [
    "df.medias.apply(lambda x: [i[\"url\"].format(action=\"fit-in\", width=870, height=653) for i in x])"
   ]
  },
  {
   "cell_type": "code",
   "execution_count": null,
   "metadata": {},
   "outputs": [],
   "source": []
  },
  {
   "cell_type": "code",
   "execution_count": null,
   "metadata": {},
   "outputs": [],
   "source": []
  },
  {
   "cell_type": "code",
   "execution_count": null,
   "metadata": {
    "scrolled": true
   },
   "outputs": [],
   "source": [
    "def get_min_dist(lat, lng):\n",
    "    if not pd.isna(lat):\n",
    "        X = df_metro.copy()\n",
    "        X[\"distance\"] =  X[[\"lat\", \"lng\"]].apply(lambda x: distance((x[0], x[1]), (lat, lng)).m, axis=1)\n",
    "        return X.sort_values(\"distance\").reset_index().loc[0,['linha', 'estacao', 'distance']].tolist()\n",
    "        #return X.sort_values(\"distance\").reset_index()\n",
    "    else:\n",
    "        return \"\", \"\", None"
   ]
  },
  {
   "cell_type": "code",
   "execution_count": null,
   "metadata": {},
   "outputs": [],
   "source": [
    "df[['lat', 'lng','condominio']] = df[['lat', 'lng','condominio']].apply(pd.to_numeric)"
   ]
  },
  {
   "cell_type": "code",
   "execution_count": null,
   "metadata": {},
   "outputs": [],
   "source": [
    "get_min_dist(-22.925214,-43.230616)"
   ]
  },
  {
   "cell_type": "code",
   "execution_count": null,
   "metadata": {},
   "outputs": [],
   "source": [
    "df[['linha', 'estacao', 'distance']] = df[[\"lat\", \"lng\"]].apply(lambda x: get_min_dist(x[0], x[1]), axis=1).apply(pd.Series)"
   ]
  },
  {
   "cell_type": "code",
   "execution_count": null,
   "metadata": {},
   "outputs": [],
   "source": [
    "df[df.url == \"https://www.vivareal.com.br/imovel/apartamento-2-quartos-tijuca-zona-norte-rio-de-janeiro-65m2-aluguel-RS1550-id-92895851/?__vt=lgpd:b\"]"
   ]
  },
  {
   "cell_type": "code",
   "execution_count": null,
   "metadata": {},
   "outputs": [],
   "source": [
    "df[~df.lat.isna()]"
   ]
  },
  {
   "cell_type": "code",
   "execution_count": null,
   "metadata": {},
   "outputs": [],
   "source": [
    "df.groupby(\"page\")[\"id\"].count()"
   ]
  },
  {
   "cell_type": "code",
   "execution_count": null,
   "metadata": {},
   "outputs": [],
   "source": [
    "df.groupby(\"tipo\")[\"id\"].count()"
   ]
  },
  {
   "cell_type": "code",
   "execution_count": null,
   "metadata": {},
   "outputs": [],
   "source": [
    "df = df[df.tipo == \"Aluguel\"]\n",
    "df.head(3)"
   ]
  },
  {
   "cell_type": "code",
   "execution_count": null,
   "metadata": {
    "scrolled": true
   },
   "outputs": [],
   "source": [
    "df[\"preco_total\"] = df[\"preco\"] + df[\"condominio\"]"
   ]
  },
  {
   "cell_type": "code",
   "execution_count": null,
   "metadata": {},
   "outputs": [],
   "source": [
    "df.head(3)"
   ]
  },
  {
   "cell_type": "code",
   "execution_count": null,
   "metadata": {},
   "outputs": [],
   "source": []
  }
 ],
 "metadata": {
  "kernelspec": {
   "display_name": "Python 3",
   "language": "python",
   "name": "python3"
  },
  "language_info": {
   "codemirror_mode": {
    "name": "ipython",
    "version": 3
   },
   "file_extension": ".py",
   "mimetype": "text/x-python",
   "name": "python",
   "nbconvert_exporter": "python",
   "pygments_lexer": "ipython3",
   "version": "3.8.6"
  },
  "toc": {
   "base_numbering": 1,
   "nav_menu": {},
   "number_sections": true,
   "sideBar": true,
   "skip_h1_title": false,
   "title_cell": "Table of Contents",
   "title_sidebar": "Contents",
   "toc_cell": false,
   "toc_position": {},
   "toc_section_display": true,
   "toc_window_display": false
  }
 },
 "nbformat": 4,
 "nbformat_minor": 4
}
