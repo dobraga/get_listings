{
 "cells": [
  {
   "cell_type": "markdown",
   "metadata": {},
   "source": [
    "# Leitura"
   ]
  },
  {
   "cell_type": "code",
   "execution_count": 2,
   "metadata": {},
   "outputs": [],
   "source": [
    "import pandas as pd\n",
    "pd.set_option('display.max_columns', None)"
   ]
  },
  {
   "cell_type": "code",
   "execution_count": 3,
   "metadata": {},
   "outputs": [
    {
     "output_type": "execute_result",
     "data": {
      "text/plain": [
       "                                extraido    origem     tipo  metragem  \\\n",
       "id                                                                      \n",
       "vivareal_1453705483  16/01/2021 04:40:43  vivareal  Aluguel        80   \n",
       "vivareal_1524745490  16/01/2021 04:16:13  vivareal  Aluguel        70   \n",
       "vivareal_1524785489  16/01/2021 04:08:02  vivareal  Aluguel       140   \n",
       "vivareal_2168785752  15/01/2021 19:41:28  vivareal  Aluguel       100   \n",
       "vivareal_2344165475  16/01/2021 09:53:48  vivareal  Aluguel       148   \n",
       "\n",
       "                     quartos  banheiros  vagas  preco  condominio        lat  \\\n",
       "id                                                                             \n",
       "vivareal_1453705483        3        1.0    3.0   2100      1105.0 -22.923281   \n",
       "vivareal_1524745490        3        1.0    3.0   2000       600.0 -22.929018   \n",
       "vivareal_1524785489        3        3.0    3.0   3300      2300.0 -22.932090   \n",
       "vivareal_2168785752        2        3.0    2.0   1800       974.0 -22.925296   \n",
       "vivareal_2344165475        4        NaN    4.0   2500      1344.0 -22.927777   \n",
       "\n",
       "                           lng  \\\n",
       "id                               \n",
       "vivareal_1453705483 -43.228141   \n",
       "vivareal_1524745490 -43.243370   \n",
       "vivareal_1524785489 -43.240116   \n",
       "vivareal_2168785752 -43.244814   \n",
       "vivareal_2344165475 -43.242436   \n",
       "\n",
       "                                                              endereco  \\\n",
       "id                                                                       \n",
       "vivareal_1453705483  Condomínio Edificio Santo Antonio Rua Conselhe...   \n",
       "vivareal_1524745490  Rua Uruguai - Tijuca, Rio de Janeiro - RJ VER ...   \n",
       "vivareal_1524785489  Rua Conde de Bonfim - Tijuca, Rio de Janeiro -...   \n",
       "vivareal_2168785752  Condomínio Edificio Soleil Du Dimanche Rua Bar...   \n",
       "vivareal_2344165475  Rua Maria Amália - Tijuca, Rio de Janeiro - RJ...   \n",
       "\n",
       "                                                                 title  \\\n",
       "id                                                                       \n",
       "vivareal_1453705483   Apartamentos com 3 Quartos para Alugar em Tijuca   \n",
       "vivareal_1524745490  Apartamento com 3 Quartos para Alugar, 70 m² p...   \n",
       "vivareal_1524785489  Apartamento com 3 Quartos para Alugar, 140 m² ...   \n",
       "vivareal_2168785752  Apartamento com 2 Quartos para Alugar, 100 m² ...   \n",
       "vivareal_2344165475  Apartamento com 4 Quartos para Alugar, 148 m² ...   \n",
       "\n",
       "                                                                  desc  \\\n",
       "id                                                                       \n",
       "vivareal_1453705483  ** IMÓVEL PARTICIPANTE DO SALÃO DE IMÓVEIS APS...   \n",
       "vivareal_1524745490  Excelente apartamento de 3 quartos , 1 banheir...   \n",
       "vivareal_1524785489  Apto 3 quartos ,140m², de frente,vista indevas...   \n",
       "vivareal_2168785752  SÓ FIADOR - RUA BARÃO DE MESQUITA 574, andar a...   \n",
       "vivareal_2344165475  Ótimo apartamento. sala ampla, quatro quartos,...   \n",
       "\n",
       "                                                                   url  \\\n",
       "id                                                                       \n",
       "vivareal_1453705483  https://www.vivareal.com.br/imovel/apartamento...   \n",
       "vivareal_1524745490  https://www.vivareal.com.br/imovel/apartamento...   \n",
       "vivareal_1524785489  https://www.vivareal.com.br/imovel/apartamento...   \n",
       "vivareal_2168785752  https://www.vivareal.com.br/imovel/apartamento...   \n",
       "vivareal_2344165475  https://www.vivareal.com.br/imovel/apartamento...   \n",
       "\n",
       "                                                               imagens  \\\n",
       "id                                                                       \n",
       "vivareal_1453705483  ['https://cdn1.vivareal.com/p/15042-c80f6df10/...   \n",
       "vivareal_1524745490  ['https://resizedimgs.vivareal.com/fit-in/870x...   \n",
       "vivareal_1524785489  ['https://resizedimgs.vivareal.com/fit-in/870x...   \n",
       "vivareal_2168785752  ['https://resizedimgs.vivareal.com/fit-in/870x...   \n",
       "vivareal_2344165475  ['https://resizedimgs.vivareal.com/fit-in/870x...   \n",
       "\n",
       "                                                            url_google  \\\n",
       "id                                                                       \n",
       "vivareal_1453705483  https://www.google.com/maps/undefined&q=22%C2%...   \n",
       "vivareal_1524745490  https://maps.google.com/maps?ll=-22.929018,-43...   \n",
       "vivareal_1524785489  https://maps.google.com/maps?ll=-22.93209,-43....   \n",
       "vivareal_2168785752  https://www.google.com/maps/undefined&q=22%C2%...   \n",
       "vivareal_2344165475  https://maps.google.com/maps?ll=-22.927777,-43...   \n",
       "\n",
       "                     preco_total                               linha  \\\n",
       "id                                                                     \n",
       "vivareal_1453705483       3205.0  Linha 1 do Metrô do Rio de Janeiro   \n",
       "vivareal_1524745490       2600.0  Linha 1 do Metrô do Rio de Janeiro   \n",
       "vivareal_1524785489       5600.0  Linha 1 do Metrô do Rio de Janeiro   \n",
       "vivareal_2168785752       2774.0  Linha 1 do Metrô do Rio de Janeiro   \n",
       "vivareal_2344165475       3844.0  Linha 1 do Metrô do Rio de Janeiro   \n",
       "\n",
       "                                estacao     distance  \n",
       "id                                                    \n",
       "vivareal_1453705483  Estação Saens Peña   395.880272  \n",
       "vivareal_1524745490     Estação Uruguai   622.082444  \n",
       "vivareal_1524785489     Estação Uruguai   160.912048  \n",
       "vivareal_2168785752     Estação Uruguai  1020.453465  \n",
       "vivareal_2344165475     Estação Uruguai   653.841613  "
      ],
      "text/html": "<div>\n<style scoped>\n    .dataframe tbody tr th:only-of-type {\n        vertical-align: middle;\n    }\n\n    .dataframe tbody tr th {\n        vertical-align: top;\n    }\n\n    .dataframe thead th {\n        text-align: right;\n    }\n</style>\n<table border=\"1\" class=\"dataframe\">\n  <thead>\n    <tr style=\"text-align: right;\">\n      <th></th>\n      <th>extraido</th>\n      <th>origem</th>\n      <th>tipo</th>\n      <th>metragem</th>\n      <th>quartos</th>\n      <th>banheiros</th>\n      <th>vagas</th>\n      <th>preco</th>\n      <th>condominio</th>\n      <th>lat</th>\n      <th>lng</th>\n      <th>endereco</th>\n      <th>title</th>\n      <th>desc</th>\n      <th>url</th>\n      <th>imagens</th>\n      <th>url_google</th>\n      <th>preco_total</th>\n      <th>linha</th>\n      <th>estacao</th>\n      <th>distance</th>\n    </tr>\n    <tr>\n      <th>id</th>\n      <th></th>\n      <th></th>\n      <th></th>\n      <th></th>\n      <th></th>\n      <th></th>\n      <th></th>\n      <th></th>\n      <th></th>\n      <th></th>\n      <th></th>\n      <th></th>\n      <th></th>\n      <th></th>\n      <th></th>\n      <th></th>\n      <th></th>\n      <th></th>\n      <th></th>\n      <th></th>\n      <th></th>\n    </tr>\n  </thead>\n  <tbody>\n    <tr>\n      <th>vivareal_1453705483</th>\n      <td>16/01/2021 04:40:43</td>\n      <td>vivareal</td>\n      <td>Aluguel</td>\n      <td>80</td>\n      <td>3</td>\n      <td>1.0</td>\n      <td>3.0</td>\n      <td>2100</td>\n      <td>1105.0</td>\n      <td>-22.923281</td>\n      <td>-43.228141</td>\n      <td>Condomínio Edificio Santo Antonio Rua Conselhe...</td>\n      <td>Apartamentos com 3 Quartos para Alugar em Tijuca</td>\n      <td>** IMÓVEL PARTICIPANTE DO SALÃO DE IMÓVEIS APS...</td>\n      <td>https://www.vivareal.com.br/imovel/apartamento...</td>\n      <td>['https://cdn1.vivareal.com/p/15042-c80f6df10/...</td>\n      <td>https://www.google.com/maps/undefined&amp;q=22%C2%...</td>\n      <td>3205.0</td>\n      <td>Linha 1 do Metrô do Rio de Janeiro</td>\n      <td>Estação Saens Peña</td>\n      <td>395.880272</td>\n    </tr>\n    <tr>\n      <th>vivareal_1524745490</th>\n      <td>16/01/2021 04:16:13</td>\n      <td>vivareal</td>\n      <td>Aluguel</td>\n      <td>70</td>\n      <td>3</td>\n      <td>1.0</td>\n      <td>3.0</td>\n      <td>2000</td>\n      <td>600.0</td>\n      <td>-22.929018</td>\n      <td>-43.243370</td>\n      <td>Rua Uruguai - Tijuca, Rio de Janeiro - RJ VER ...</td>\n      <td>Apartamento com 3 Quartos para Alugar, 70 m² p...</td>\n      <td>Excelente apartamento de 3 quartos , 1 banheir...</td>\n      <td>https://www.vivareal.com.br/imovel/apartamento...</td>\n      <td>['https://resizedimgs.vivareal.com/fit-in/870x...</td>\n      <td>https://maps.google.com/maps?ll=-22.929018,-43...</td>\n      <td>2600.0</td>\n      <td>Linha 1 do Metrô do Rio de Janeiro</td>\n      <td>Estação Uruguai</td>\n      <td>622.082444</td>\n    </tr>\n    <tr>\n      <th>vivareal_1524785489</th>\n      <td>16/01/2021 04:08:02</td>\n      <td>vivareal</td>\n      <td>Aluguel</td>\n      <td>140</td>\n      <td>3</td>\n      <td>3.0</td>\n      <td>3.0</td>\n      <td>3300</td>\n      <td>2300.0</td>\n      <td>-22.932090</td>\n      <td>-43.240116</td>\n      <td>Rua Conde de Bonfim - Tijuca, Rio de Janeiro -...</td>\n      <td>Apartamento com 3 Quartos para Alugar, 140 m² ...</td>\n      <td>Apto 3 quartos ,140m², de frente,vista indevas...</td>\n      <td>https://www.vivareal.com.br/imovel/apartamento...</td>\n      <td>['https://resizedimgs.vivareal.com/fit-in/870x...</td>\n      <td>https://maps.google.com/maps?ll=-22.93209,-43....</td>\n      <td>5600.0</td>\n      <td>Linha 1 do Metrô do Rio de Janeiro</td>\n      <td>Estação Uruguai</td>\n      <td>160.912048</td>\n    </tr>\n    <tr>\n      <th>vivareal_2168785752</th>\n      <td>15/01/2021 19:41:28</td>\n      <td>vivareal</td>\n      <td>Aluguel</td>\n      <td>100</td>\n      <td>2</td>\n      <td>3.0</td>\n      <td>2.0</td>\n      <td>1800</td>\n      <td>974.0</td>\n      <td>-22.925296</td>\n      <td>-43.244814</td>\n      <td>Condomínio Edificio Soleil Du Dimanche Rua Bar...</td>\n      <td>Apartamento com 2 Quartos para Alugar, 100 m² ...</td>\n      <td>SÓ FIADOR - RUA BARÃO DE MESQUITA 574, andar a...</td>\n      <td>https://www.vivareal.com.br/imovel/apartamento...</td>\n      <td>['https://resizedimgs.vivareal.com/fit-in/870x...</td>\n      <td>https://www.google.com/maps/undefined&amp;q=22%C2%...</td>\n      <td>2774.0</td>\n      <td>Linha 1 do Metrô do Rio de Janeiro</td>\n      <td>Estação Uruguai</td>\n      <td>1020.453465</td>\n    </tr>\n    <tr>\n      <th>vivareal_2344165475</th>\n      <td>16/01/2021 09:53:48</td>\n      <td>vivareal</td>\n      <td>Aluguel</td>\n      <td>148</td>\n      <td>4</td>\n      <td>NaN</td>\n      <td>4.0</td>\n      <td>2500</td>\n      <td>1344.0</td>\n      <td>-22.927777</td>\n      <td>-43.242436</td>\n      <td>Rua Maria Amália - Tijuca, Rio de Janeiro - RJ...</td>\n      <td>Apartamento com 4 Quartos para Alugar, 148 m² ...</td>\n      <td>Ótimo apartamento. sala ampla, quatro quartos,...</td>\n      <td>https://www.vivareal.com.br/imovel/apartamento...</td>\n      <td>['https://resizedimgs.vivareal.com/fit-in/870x...</td>\n      <td>https://maps.google.com/maps?ll=-22.927777,-43...</td>\n      <td>3844.0</td>\n      <td>Linha 1 do Metrô do Rio de Janeiro</td>\n      <td>Estação Uruguai</td>\n      <td>653.841613</td>\n    </tr>\n  </tbody>\n</table>\n</div>"
     },
     "metadata": {},
     "execution_count": 3
    }
   ],
   "source": [
    "df = pd.read_csv(\"../data/output/apartamentos.csv\")\n",
    "df = df.set_index(\"id\")\n",
    "df.head(5)"
   ]
  },
  {
   "cell_type": "code",
   "execution_count": 4,
   "metadata": {},
   "outputs": [
    {
     "output_type": "execute_result",
     "data": {
      "text/plain": [
       "(587, 21)"
      ]
     },
     "metadata": {},
     "execution_count": 4
    }
   ],
   "source": [
    "df.shape"
   ]
  },
  {
   "cell_type": "markdown",
   "metadata": {},
   "source": [
    "# Treino e teste"
   ]
  },
  {
   "cell_type": "code",
   "execution_count": 5,
   "metadata": {},
   "outputs": [],
   "source": [
    "from sklearn.model_selection import train_test_split"
   ]
  },
  {
   "cell_type": "code",
   "execution_count": 6,
   "metadata": {},
   "outputs": [
    {
     "output_type": "execute_result",
     "data": {
      "text/plain": [
       "                                extraido  metragem  quartos  banheiros  vagas  \\\n",
       "id                                                                              \n",
       "vivareal_2493895874  16/01/2021 09:39:07        75        3        3.0    3.0   \n",
       "vivareal_2503090201  16/01/2021 08:38:04       130        2        4.0    2.0   \n",
       "vivareal_2504499090  16/01/2021 03:33:26        75        2        1.0    2.0   \n",
       "vivareal_2503933013  16/01/2021 09:17:44        65        2        2.0    2.0   \n",
       "vivareal_2505131180  16/01/2021 08:30:12        84        2        2.0    2.0   \n",
       "\n",
       "                           lat        lng  \\\n",
       "id                                          \n",
       "vivareal_2493895874 -22.931672 -43.242784   \n",
       "vivareal_2503090201 -22.929945 -43.235248   \n",
       "vivareal_2504499090 -22.932398 -43.237964   \n",
       "vivareal_2503933013 -22.924242 -43.242506   \n",
       "vivareal_2505131180 -22.926358 -43.226718   \n",
       "\n",
       "                                                                  desc  \\\n",
       "id                                                                       \n",
       "vivareal_2493895874  Apto 3 quartos, varandão, sala, banheiro socia...   \n",
       "vivareal_2503090201  130m2 - Amplo Imóvel: 2 suítes, lavabo, sala, ...   \n",
       "vivareal_2504499090  Alugue rápido, sem fiador e com segurança! Age...   \n",
       "vivareal_2503933013  Sala, 2 quartos, banheiro social, ampla copa e...   \n",
       "vivareal_2505131180  Oportunidade Excepcional. Apartamento com sala...   \n",
       "\n",
       "                                                                   url  \\\n",
       "id                                                                       \n",
       "vivareal_2493895874  https://www.vivareal.com.br/imovel/apartamento...   \n",
       "vivareal_2503090201  https://www.vivareal.com.br/imovel/apartamento...   \n",
       "vivareal_2504499090  https://www.vivareal.com.br/imovel/apartamento...   \n",
       "vivareal_2503933013  https://www.vivareal.com.br/imovel/apartamento...   \n",
       "vivareal_2505131180  https://www.vivareal.com.br/imovel/apartamento...   \n",
       "\n",
       "                                                  linha             estacao  \\\n",
       "id                                                                            \n",
       "vivareal_2493895874  Linha 1 do Metrô do Rio de Janeiro     Estação Uruguai   \n",
       "vivareal_2503090201  Linha 1 do Metrô do Rio de Janeiro     Estação Uruguai   \n",
       "vivareal_2504499090  Linha 1 do Metrô do Rio de Janeiro     Estação Uruguai   \n",
       "vivareal_2503933013  Linha 1 do Metrô do Rio de Janeiro     Estação Uruguai   \n",
       "vivareal_2505131180  Linha 1 do Metrô do Rio de Janeiro  Estação Saens Peña   \n",
       "\n",
       "                       distance  \n",
       "id                               \n",
       "vivareal_2493895874  437.751640  \n",
       "vivareal_2503090201  446.156563  \n",
       "vivareal_2504499090   67.319490  \n",
       "vivareal_2503933013  997.981886  \n",
       "vivareal_2505131180  601.780973  "
      ],
      "text/html": "<div>\n<style scoped>\n    .dataframe tbody tr th:only-of-type {\n        vertical-align: middle;\n    }\n\n    .dataframe tbody tr th {\n        vertical-align: top;\n    }\n\n    .dataframe thead th {\n        text-align: right;\n    }\n</style>\n<table border=\"1\" class=\"dataframe\">\n  <thead>\n    <tr style=\"text-align: right;\">\n      <th></th>\n      <th>extraido</th>\n      <th>metragem</th>\n      <th>quartos</th>\n      <th>banheiros</th>\n      <th>vagas</th>\n      <th>lat</th>\n      <th>lng</th>\n      <th>desc</th>\n      <th>url</th>\n      <th>linha</th>\n      <th>estacao</th>\n      <th>distance</th>\n    </tr>\n    <tr>\n      <th>id</th>\n      <th></th>\n      <th></th>\n      <th></th>\n      <th></th>\n      <th></th>\n      <th></th>\n      <th></th>\n      <th></th>\n      <th></th>\n      <th></th>\n      <th></th>\n      <th></th>\n    </tr>\n  </thead>\n  <tbody>\n    <tr>\n      <th>vivareal_2493895874</th>\n      <td>16/01/2021 09:39:07</td>\n      <td>75</td>\n      <td>3</td>\n      <td>3.0</td>\n      <td>3.0</td>\n      <td>-22.931672</td>\n      <td>-43.242784</td>\n      <td>Apto 3 quartos, varandão, sala, banheiro socia...</td>\n      <td>https://www.vivareal.com.br/imovel/apartamento...</td>\n      <td>Linha 1 do Metrô do Rio de Janeiro</td>\n      <td>Estação Uruguai</td>\n      <td>437.751640</td>\n    </tr>\n    <tr>\n      <th>vivareal_2503090201</th>\n      <td>16/01/2021 08:38:04</td>\n      <td>130</td>\n      <td>2</td>\n      <td>4.0</td>\n      <td>2.0</td>\n      <td>-22.929945</td>\n      <td>-43.235248</td>\n      <td>130m2 - Amplo Imóvel: 2 suítes, lavabo, sala, ...</td>\n      <td>https://www.vivareal.com.br/imovel/apartamento...</td>\n      <td>Linha 1 do Metrô do Rio de Janeiro</td>\n      <td>Estação Uruguai</td>\n      <td>446.156563</td>\n    </tr>\n    <tr>\n      <th>vivareal_2504499090</th>\n      <td>16/01/2021 03:33:26</td>\n      <td>75</td>\n      <td>2</td>\n      <td>1.0</td>\n      <td>2.0</td>\n      <td>-22.932398</td>\n      <td>-43.237964</td>\n      <td>Alugue rápido, sem fiador e com segurança! Age...</td>\n      <td>https://www.vivareal.com.br/imovel/apartamento...</td>\n      <td>Linha 1 do Metrô do Rio de Janeiro</td>\n      <td>Estação Uruguai</td>\n      <td>67.319490</td>\n    </tr>\n    <tr>\n      <th>vivareal_2503933013</th>\n      <td>16/01/2021 09:17:44</td>\n      <td>65</td>\n      <td>2</td>\n      <td>2.0</td>\n      <td>2.0</td>\n      <td>-22.924242</td>\n      <td>-43.242506</td>\n      <td>Sala, 2 quartos, banheiro social, ampla copa e...</td>\n      <td>https://www.vivareal.com.br/imovel/apartamento...</td>\n      <td>Linha 1 do Metrô do Rio de Janeiro</td>\n      <td>Estação Uruguai</td>\n      <td>997.981886</td>\n    </tr>\n    <tr>\n      <th>vivareal_2505131180</th>\n      <td>16/01/2021 08:30:12</td>\n      <td>84</td>\n      <td>2</td>\n      <td>2.0</td>\n      <td>2.0</td>\n      <td>-22.926358</td>\n      <td>-43.226718</td>\n      <td>Oportunidade Excepcional. Apartamento com sala...</td>\n      <td>https://www.vivareal.com.br/imovel/apartamento...</td>\n      <td>Linha 1 do Metrô do Rio de Janeiro</td>\n      <td>Estação Saens Peña</td>\n      <td>601.780973</td>\n    </tr>\n  </tbody>\n</table>\n</div>"
     },
     "metadata": {},
     "execution_count": 6
    }
   ],
   "source": [
    "X_train, X_test, y_train, y_test = train_test_split(\n",
    "    df.drop(columns=[\n",
    "        \"preco\", \"condominio\", \"tipo\", \"origem\", \"endereco\", \"title\", \"imagens\", \"url_google\", \"preco_total\"#, \"url\"\n",
    "    ]), df.preco_total\n",
    ")\n",
    "\n",
    "X_train.head(5)"
   ]
  },
  {
   "cell_type": "markdown",
   "metadata": {},
   "source": [
    "# Preprocessamento"
   ]
  },
  {
   "cell_type": "code",
   "execution_count": 7,
   "metadata": {},
   "outputs": [
    {
     "output_type": "execute_result",
     "data": {
      "text/plain": [
       "extraido     0\n",
       "metragem     0\n",
       "quartos      0\n",
       "banheiros    1\n",
       "vagas        0\n",
       "lat          0\n",
       "lng          0\n",
       "desc         1\n",
       "url          0\n",
       "linha        0\n",
       "estacao      0\n",
       "distance     0\n",
       "dtype: int64"
      ]
     },
     "metadata": {},
     "execution_count": 7
    }
   ],
   "source": [
    "X_train.isna().sum()"
   ]
  },
  {
   "cell_type": "code",
   "execution_count": 8,
   "metadata": {},
   "outputs": [
    {
     "output_type": "execute_result",
     "data": {
      "text/plain": [
       "['https://www.vivareal.com.br/imovel/apartamento-3-quartos-tijuca-zona-norte-rio-de-janeiro-com-garagem-150m2-aluguel-RS2400-id-2506216402/']"
      ]
     },
     "metadata": {},
     "execution_count": 8
    }
   ],
   "source": [
    "list(X_train[X_train.desc.isna()].url)"
   ]
  },
  {
   "cell_type": "code",
   "execution_count": 9,
   "metadata": {},
   "outputs": [
    {
     "output_type": "execute_result",
     "data": {
      "text/plain": [
       "Linha 1 do Metrô do Rio de Janeiro    418\n",
       "Linha Santa Cruz da SuperVia           11\n",
       "Linha Japeri da SuperVia                3\n",
       "Linha 2 do Metrô do Rio de Janeiro      3\n",
       "Linha Paracambi da SuperVia             2\n",
       "Linha 4 do Metrô do Rio de Janeiro      1\n",
       "Linha Guapimirim da SuperVia            1\n",
       "Linha Deodoro da SuperVia               1\n",
       "Name: linha, dtype: int64"
      ]
     },
     "metadata": {},
     "execution_count": 9
    }
   ],
   "source": [
    "X_train['linha'].value_counts()"
   ]
  },
  {
   "cell_type": "code",
   "execution_count": 10,
   "metadata": {
    "scrolled": true
   },
   "outputs": [
    {
     "output_type": "execute_result",
     "data": {
      "text/plain": [
       "Estação Uruguai                             202\n",
       "Estação Saens Peña                           79\n",
       "Estação São Francisco Xavier (Metrô Rio)     77\n",
       "Estação Afonso Pena                          57\n",
       "Estação Matadouro                            11\n",
       "Estação São Cristóvão (Rio de Janeiro)        3\n",
       "Estação Maracanã (Metrô Rio)                  2\n",
       "Estação Estácio                               2\n",
       "Estação Paracambi                             2\n",
       "Estação Praça da Bandeira                     1\n",
       "Estação Cinelândia                            1\n",
       "Estação Praça Onze                            1\n",
       "Estação Jardim Oceânico                       1\n",
       "Estação Guapimirim                            1\n",
       "Name: estacao, dtype: int64"
      ]
     },
     "metadata": {},
     "execution_count": 10
    }
   ],
   "source": [
    "X_train['estacao'].value_counts()"
   ]
  },
  {
   "cell_type": "code",
   "execution_count": 12,
   "metadata": {},
   "outputs": [],
   "source": [
    "from sklearn.feature_extraction.text import TfidfVectorizer\n",
    "from dstools.preprocess import TransformColumn\n",
    "from sklearn.preprocessing import OneHotEncoder\n",
    "from scipy.sparse import hstack\n",
    "import joblib"
   ]
  },
  {
   "cell_type": "code",
   "execution_count": 13,
   "metadata": {},
   "outputs": [],
   "source": [
    "import nltk\n",
    "import unidecode"
   ]
  },
  {
   "cell_type": "code",
   "execution_count": 14,
   "metadata": {},
   "outputs": [],
   "source": [
    "X_train = X_train.dropna()\n",
    "X_test = X_test.dropna()"
   ]
  },
  {
   "cell_type": "code",
   "execution_count": 15,
   "metadata": {
    "scrolled": true
   },
   "outputs": [
    {
     "output_type": "execute_result",
     "data": {
      "text/plain": [
       "            metragem  quartos  banheiros  vagas        lat        lng  \\\n",
       "id                                                                      \n",
       "2504649493        45        1          1    0.0 -22.931581 -43.241237   \n",
       "2504604020        50        3          2    1.0 -22.931581 -43.241237   \n",
       "2504172529        78        2          1    0.0 -22.927777 -43.242436   \n",
       "2504468479        70        3          3    1.0 -22.920839 -43.234873   \n",
       "2500779518       120        2          2    1.0 -22.935822 -43.244696   \n",
       "\n",
       "                                                         desc  \\\n",
       "id                                                              \n",
       "2504649493  mais de  novos imoveis anunciados todos os dia...   \n",
       "2504604020  mais de  novos imoveis anunciados todos os dia...   \n",
       "2504172529  otimo apartamento de fundos  silencioso com ce...   \n",
       "2504468479  alugo local privilegiado da tijuca  exatamente...   \n",
       "2500779518  todo reformado  amplo comercio  planta origina...   \n",
       "\n",
       "                                         linha             estacao    distance  \n",
       "id                                                                              \n",
       "2504649493  linha_1_do_metro_do_rio_de_janeiro     estacao_uruguai  287.944203  \n",
       "2504604020  linha_1_do_metro_do_rio_de_janeiro     estacao_uruguai  287.944203  \n",
       "2504172529  linha_1_do_metro_do_rio_de_janeiro     estacao_uruguai  653.841613  \n",
       "2504468479  linha_1_do_metro_do_rio_de_janeiro  estacao_saens_pena  452.064166  \n",
       "2500779518  linha_1_do_metro_do_rio_de_janeiro     estacao_uruguai  724.504957  "
      ],
      "text/html": "<div>\n<style scoped>\n    .dataframe tbody tr th:only-of-type {\n        vertical-align: middle;\n    }\n\n    .dataframe tbody tr th {\n        vertical-align: top;\n    }\n\n    .dataframe thead th {\n        text-align: right;\n    }\n</style>\n<table border=\"1\" class=\"dataframe\">\n  <thead>\n    <tr style=\"text-align: right;\">\n      <th></th>\n      <th>metragem</th>\n      <th>quartos</th>\n      <th>banheiros</th>\n      <th>vagas</th>\n      <th>lat</th>\n      <th>lng</th>\n      <th>desc</th>\n      <th>linha</th>\n      <th>estacao</th>\n      <th>distance</th>\n    </tr>\n    <tr>\n      <th>id</th>\n      <th></th>\n      <th></th>\n      <th></th>\n      <th></th>\n      <th></th>\n      <th></th>\n      <th></th>\n      <th></th>\n      <th></th>\n      <th></th>\n    </tr>\n  </thead>\n  <tbody>\n    <tr>\n      <th>2504649493</th>\n      <td>45</td>\n      <td>1</td>\n      <td>1</td>\n      <td>0.0</td>\n      <td>-22.931581</td>\n      <td>-43.241237</td>\n      <td>mais de  novos imoveis anunciados todos os dia...</td>\n      <td>linha_1_do_metro_do_rio_de_janeiro</td>\n      <td>estacao_uruguai</td>\n      <td>287.944203</td>\n    </tr>\n    <tr>\n      <th>2504604020</th>\n      <td>50</td>\n      <td>3</td>\n      <td>2</td>\n      <td>1.0</td>\n      <td>-22.931581</td>\n      <td>-43.241237</td>\n      <td>mais de  novos imoveis anunciados todos os dia...</td>\n      <td>linha_1_do_metro_do_rio_de_janeiro</td>\n      <td>estacao_uruguai</td>\n      <td>287.944203</td>\n    </tr>\n    <tr>\n      <th>2504172529</th>\n      <td>78</td>\n      <td>2</td>\n      <td>1</td>\n      <td>0.0</td>\n      <td>-22.927777</td>\n      <td>-43.242436</td>\n      <td>otimo apartamento de fundos  silencioso com ce...</td>\n      <td>linha_1_do_metro_do_rio_de_janeiro</td>\n      <td>estacao_uruguai</td>\n      <td>653.841613</td>\n    </tr>\n    <tr>\n      <th>2504468479</th>\n      <td>70</td>\n      <td>3</td>\n      <td>3</td>\n      <td>1.0</td>\n      <td>-22.920839</td>\n      <td>-43.234873</td>\n      <td>alugo local privilegiado da tijuca  exatamente...</td>\n      <td>linha_1_do_metro_do_rio_de_janeiro</td>\n      <td>estacao_saens_pena</td>\n      <td>452.064166</td>\n    </tr>\n    <tr>\n      <th>2500779518</th>\n      <td>120</td>\n      <td>2</td>\n      <td>2</td>\n      <td>1.0</td>\n      <td>-22.935822</td>\n      <td>-43.244696</td>\n      <td>todo reformado  amplo comercio  planta origina...</td>\n      <td>linha_1_do_metro_do_rio_de_janeiro</td>\n      <td>estacao_uruguai</td>\n      <td>724.504957</td>\n    </tr>\n  </tbody>\n</table>\n</div>"
     },
     "metadata": {},
     "execution_count": 15
    }
   ],
   "source": [
    "tc = TransformColumn({\n",
    "    \"desc\": f'''X.desc.apply(lambda x: unidecode(x))\n",
    "        .str.lower().str.replace(\"[\\.|,]\", \" \").replace(\"[^a-z| ]\", \"\", regex=True)\n",
    "    '''.replace(\"\\n\", \"\").replace(\"\\t\", \"\"),\n",
    "    \n",
    "    \"linha\": f'''X.linha.apply(lambda x: unidecode(x))\n",
    "        .str.lower().str.replace(\"[\\.|,]\", \" \").str.replace(\" \", \"_\")\n",
    "        .str.replace(\"\\(|\\)\", \"\", regex=True)\n",
    "    '''.replace(\"\\n\", \"\").replace(\"\\t\", \"\"),\n",
    "    \n",
    "    \"estacao\": f'''X.estacao.apply(lambda x: unidecode(x))\n",
    "        .str.lower().str.replace(\"[\\.|,]\", \" \").str.replace(\" \", \"_\")\n",
    "        .str.replace(\"\\(|\\)\", \"\", regex=True)\n",
    "    '''.replace(\"\\n\", \"\").replace(\"\\t\", \"\")\n",
    "})\n",
    "\n",
    "X_train = tc.fit_transform(X_train, env={\"unidecode\": unidecode.unidecode})\n",
    "X_test = tc.transform(X_test)\n",
    "joblib.dump(tc, \"../data/objects/ajusta_desc.pkl\")\n",
    "X_train.head(5)"
   ]
  },
  {
   "cell_type": "code",
   "execution_count": 16,
   "metadata": {},
   "outputs": [
    {
     "output_type": "execute_result",
     "data": {
      "text/plain": [
       "['../data/objects/onehot.pkl']"
      ]
     },
     "metadata": {},
     "execution_count": 16
    }
   ],
   "source": [
    "oh = OneHotEncoder(sparse=False)\n",
    "oh.fit(pd.concat([X_train, X_test])[[\"linha\",\"estacao\"]].dropna())\n",
    "joblib.dump(oh, \"../data/objects/onehot.pkl\")"
   ]
  },
  {
   "cell_type": "code",
   "execution_count": 17,
   "metadata": {},
   "outputs": [],
   "source": [
    "def ordinal_encoder(df, oh):\n",
    "    X_encode = pd.DataFrame(oh.transform(df[[\"linha\", \"estacao\"]]))\n",
    "    X_encode.columns = oh.get_feature_names([\"fl\", \"fl\"])\n",
    "    X_encode = X_encode.set_index(df.index)\n",
    "    X_encode = pd.concat([df.drop(columns=[\"linha\", \"estacao\"]), X_encode], axis=1)\n",
    "    return X_encode"
   ]
  },
  {
   "cell_type": "code",
   "execution_count": 18,
   "metadata": {
    "scrolled": true
   },
   "outputs": [
    {
     "output_type": "execute_result",
     "data": {
      "text/plain": [
       "            metragem  quartos  banheiros  vagas        lat        lng  \\\n",
       "id                                                                      \n",
       "2504649493        45        1          1    0.0 -22.931581 -43.241237   \n",
       "2504604020        50        3          2    1.0 -22.931581 -43.241237   \n",
       "2504172529        78        2          1    0.0 -22.927777 -43.242436   \n",
       "2504468479        70        3          3    1.0 -22.920839 -43.234873   \n",
       "2500779518       120        2          2    1.0 -22.935822 -43.244696   \n",
       "\n",
       "                                                         desc    distance  \\\n",
       "id                                                                          \n",
       "2504649493  mais de  novos imoveis anunciados todos os dia...  287.944203   \n",
       "2504604020  mais de  novos imoveis anunciados todos os dia...  287.944203   \n",
       "2504172529  otimo apartamento de fundos  silencioso com ce...  653.841613   \n",
       "2504468479  alugo local privilegiado da tijuca  exatamente...  452.064166   \n",
       "2500779518  todo reformado  amplo comercio  planta origina...  724.504957   \n",
       "\n",
       "            fl_linha_1_do_metro_do_rio_de_janeiro  fl_estacao_afonso_pena  \\\n",
       "id                                                                          \n",
       "2504649493                                    1.0                     0.0   \n",
       "2504604020                                    1.0                     0.0   \n",
       "2504172529                                    1.0                     0.0   \n",
       "2504468479                                    1.0                     0.0   \n",
       "2500779518                                    1.0                     0.0   \n",
       "\n",
       "            fl_estacao_saens_pena  fl_estacao_sao_francisco_xavier_metro_rio  \\\n",
       "id                                                                             \n",
       "2504649493                    0.0                                        0.0   \n",
       "2504604020                    0.0                                        0.0   \n",
       "2504172529                    0.0                                        0.0   \n",
       "2504468479                    1.0                                        0.0   \n",
       "2500779518                    0.0                                        0.0   \n",
       "\n",
       "            fl_estacao_uruguai  \n",
       "id                              \n",
       "2504649493                 1.0  \n",
       "2504604020                 1.0  \n",
       "2504172529                 1.0  \n",
       "2504468479                 0.0  \n",
       "2500779518                 1.0  "
      ],
      "text/html": "<div>\n<style scoped>\n    .dataframe tbody tr th:only-of-type {\n        vertical-align: middle;\n    }\n\n    .dataframe tbody tr th {\n        vertical-align: top;\n    }\n\n    .dataframe thead th {\n        text-align: right;\n    }\n</style>\n<table border=\"1\" class=\"dataframe\">\n  <thead>\n    <tr style=\"text-align: right;\">\n      <th></th>\n      <th>metragem</th>\n      <th>quartos</th>\n      <th>banheiros</th>\n      <th>vagas</th>\n      <th>lat</th>\n      <th>lng</th>\n      <th>desc</th>\n      <th>distance</th>\n      <th>fl_linha_1_do_metro_do_rio_de_janeiro</th>\n      <th>fl_estacao_afonso_pena</th>\n      <th>fl_estacao_saens_pena</th>\n      <th>fl_estacao_sao_francisco_xavier_metro_rio</th>\n      <th>fl_estacao_uruguai</th>\n    </tr>\n    <tr>\n      <th>id</th>\n      <th></th>\n      <th></th>\n      <th></th>\n      <th></th>\n      <th></th>\n      <th></th>\n      <th></th>\n      <th></th>\n      <th></th>\n      <th></th>\n      <th></th>\n      <th></th>\n      <th></th>\n    </tr>\n  </thead>\n  <tbody>\n    <tr>\n      <th>2504649493</th>\n      <td>45</td>\n      <td>1</td>\n      <td>1</td>\n      <td>0.0</td>\n      <td>-22.931581</td>\n      <td>-43.241237</td>\n      <td>mais de  novos imoveis anunciados todos os dia...</td>\n      <td>287.944203</td>\n      <td>1.0</td>\n      <td>0.0</td>\n      <td>0.0</td>\n      <td>0.0</td>\n      <td>1.0</td>\n    </tr>\n    <tr>\n      <th>2504604020</th>\n      <td>50</td>\n      <td>3</td>\n      <td>2</td>\n      <td>1.0</td>\n      <td>-22.931581</td>\n      <td>-43.241237</td>\n      <td>mais de  novos imoveis anunciados todos os dia...</td>\n      <td>287.944203</td>\n      <td>1.0</td>\n      <td>0.0</td>\n      <td>0.0</td>\n      <td>0.0</td>\n      <td>1.0</td>\n    </tr>\n    <tr>\n      <th>2504172529</th>\n      <td>78</td>\n      <td>2</td>\n      <td>1</td>\n      <td>0.0</td>\n      <td>-22.927777</td>\n      <td>-43.242436</td>\n      <td>otimo apartamento de fundos  silencioso com ce...</td>\n      <td>653.841613</td>\n      <td>1.0</td>\n      <td>0.0</td>\n      <td>0.0</td>\n      <td>0.0</td>\n      <td>1.0</td>\n    </tr>\n    <tr>\n      <th>2504468479</th>\n      <td>70</td>\n      <td>3</td>\n      <td>3</td>\n      <td>1.0</td>\n      <td>-22.920839</td>\n      <td>-43.234873</td>\n      <td>alugo local privilegiado da tijuca  exatamente...</td>\n      <td>452.064166</td>\n      <td>1.0</td>\n      <td>0.0</td>\n      <td>1.0</td>\n      <td>0.0</td>\n      <td>0.0</td>\n    </tr>\n    <tr>\n      <th>2500779518</th>\n      <td>120</td>\n      <td>2</td>\n      <td>2</td>\n      <td>1.0</td>\n      <td>-22.935822</td>\n      <td>-43.244696</td>\n      <td>todo reformado  amplo comercio  planta origina...</td>\n      <td>724.504957</td>\n      <td>1.0</td>\n      <td>0.0</td>\n      <td>0.0</td>\n      <td>0.0</td>\n      <td>1.0</td>\n    </tr>\n  </tbody>\n</table>\n</div>"
     },
     "metadata": {},
     "execution_count": 18
    }
   ],
   "source": [
    "X_train = ordinal_encoder(X_train, oh)\n",
    "X_test = ordinal_encoder(X_test, oh)\n",
    "X_train.head(5)"
   ]
  },
  {
   "cell_type": "code",
   "execution_count": 19,
   "metadata": {},
   "outputs": [
    {
     "output_type": "execute_result",
     "data": {
      "text/plain": [
       "['de', 'a', 'o', 'que', 'e', 'e', 'do', 'da', 'em', 'um']"
      ]
     },
     "metadata": {},
     "execution_count": 19
    }
   ],
   "source": [
    "stop = nltk.corpus.stopwords.words('portuguese')\n",
    "stop = stop + [\"apartamento\", \"apto\", \"rua\", \"tijuca\"]\n",
    "stop = [unidecode.unidecode(s) for s in stop]\n",
    "stop[:10]"
   ]
  },
  {
   "cell_type": "code",
   "execution_count": 20,
   "metadata": {},
   "outputs": [
    {
     "output_type": "execute_result",
     "data": {
      "text/plain": [
       "['../data/objects/tfidf.pkl']"
      ]
     },
     "metadata": {},
     "execution_count": 20
    }
   ],
   "source": [
    "tfidf = TfidfVectorizer(stop_words=stop, min_df=5, ngram_range=(1,1))\n",
    "tfidf.fit(X_train.desc)\n",
    "joblib.dump(tfidf, \"../data/objects/tfidf.pkl\")"
   ]
  },
  {
   "cell_type": "code",
   "execution_count": 21,
   "metadata": {},
   "outputs": [
    {
     "output_type": "stream",
     "name": "stdout",
     "text": [
      "['agende', 'aluga', 'alugo', 'aluguel', 'ambientes', 'ampla', 'amplo', 'andar', 'ar', 'area', 'arejado', 'armarios', 'bairro', 'banheiro', 'banheiros', 'bem', 'blindex', 'bonfim', 'capitalizacao', 'claro', 'comercio', 'completa', 'completas', 'conde', 'condominio', 'conducao', 'cozinha', 'creci', 'dependencia', 'dependencias', 'deposito', 'dois', 'elevador', 'embutidos', 'empregada', 'estacao', 'excelente', 'fiador', 'fianca', 'frente', 'garagem', 'horas', 'hs', 'imoveis', 'imovel', 'iptu', 'livre', 'localizacao', 'localizado', 'manha', 'metro', 'metros', 'otimo', 'pena', 'portaria', 'possui', 'praca', 'predio', 'proximo', 'quadrados', 'quarto', 'quartos', 'reformado', 'saens', 'sala', 'salao', 'seguro', 'sendo', 'servico', 'shopping', 'social', 'sol', 'suite', 'titulo', 'todos', 'vaga', 'varanda', 'visita', 'vista', 'whatsapp', 'xavier']\n"
     ]
    }
   ],
   "source": [
    "print(tfidf.get_feature_names())"
   ]
  },
  {
   "cell_type": "code",
   "execution_count": 22,
   "metadata": {},
   "outputs": [],
   "source": [
    "X_train_e = hstack([X_train.drop(columns=\"desc\"), tfidf.transform(X_train.desc)])\n",
    "X_test_e = hstack([X_test.drop(columns=\"desc\"), tfidf.transform(X_test.desc)])"
   ]
  },
  {
   "cell_type": "code",
   "execution_count": 23,
   "metadata": {},
   "outputs": [
    {
     "output_type": "execute_result",
     "data": {
      "text/plain": [
       "      0    1    2    3          4          5           6    7    8    9    10  \\\n",
       "0   45.0  1.0  1.0  0.0 -22.931581 -43.241237  287.944203  1.0  0.0  0.0  0.0   \n",
       "1   50.0  3.0  2.0  1.0 -22.931581 -43.241237  287.944203  1.0  0.0  0.0  0.0   \n",
       "2   78.0  2.0  1.0  0.0 -22.927777 -43.242436  653.841613  1.0  0.0  0.0  0.0   \n",
       "3   70.0  3.0  3.0  1.0 -22.920839 -43.234873  452.064166  1.0  0.0  1.0  0.0   \n",
       "4  120.0  2.0  2.0  1.0 -22.935822 -43.244696  724.504957  1.0  0.0  0.0  0.0   \n",
       "\n",
       "    11   12   13        14   15   16        17        18        19   20  \\\n",
       "0  1.0  0.0  0.0  0.000000  0.0  0.0  0.000000  0.000000  0.000000  0.0   \n",
       "1  1.0  0.0  0.0  0.000000  0.0  0.0  0.000000  0.000000  0.000000  0.0   \n",
       "2  1.0  0.0  0.0  0.000000  0.0  0.0  0.387952  0.000000  0.000000  0.0   \n",
       "3  0.0  0.0  0.0  0.170923  0.0  0.0  0.000000  0.000000  0.000000  0.0   \n",
       "4  1.0  0.0  0.0  0.000000  0.0  0.0  0.000000  0.278627  0.303233  0.0   \n",
       "\n",
       "         21   22        23   24        25        26   27       28   29   30  \\\n",
       "0  0.000000  0.0  0.000000  0.0  0.000000  0.000000  0.0  0.00000  0.0  0.0   \n",
       "1  0.000000  0.0  0.000000  0.0  0.000000  0.000000  0.0  0.00000  0.0  0.0   \n",
       "2  0.199955  0.0  0.000000  0.0  0.199955  0.000000  0.0  0.00000  0.0  0.0   \n",
       "3  0.088096  0.0  0.430518  0.0  0.000000  0.134484  0.0  0.16282  0.0  0.0   \n",
       "4  0.000000  0.0  0.200448  0.0  0.000000  0.000000  0.0  0.00000  0.0  0.0   \n",
       "\n",
       "    31        32   33        34   35       36   37        38   39   40  \\\n",
       "0  0.0  0.000000  0.0  0.000000  0.0  0.00000  0.0  0.000000  0.0  0.0   \n",
       "1  0.0  0.000000  0.0  0.000000  0.0  0.00000  0.0  0.000000  0.0  0.0   \n",
       "2  0.0  0.000000  0.0  0.369558  0.0  0.00000  0.0  0.184537  0.0  0.0   \n",
       "3  0.0  0.000000  0.0  0.000000  0.0  0.11936  0.0  0.081303  0.0  0.0   \n",
       "4  0.0  0.222295  0.0  0.000000  0.0  0.00000  0.0  0.000000  0.0  0.0   \n",
       "\n",
       "        41   42   43   44   45        46      47   48        49        50  \\\n",
       "0  0.00000  0.0  0.0  0.0  0.0  0.000000  0.0000  0.0  0.327457  0.000000   \n",
       "1  0.00000  0.0  0.0  0.0  0.0  0.000000  0.0000  0.0  0.327457  0.000000   \n",
       "2  0.28685  0.0  0.0  0.0  0.0  0.305244  0.0000  0.0  0.000000  0.000000   \n",
       "3  0.12638  0.0  0.0  0.0  0.0  0.000000  0.1558  0.0  0.000000  0.139058   \n",
       "4  0.00000  0.0  0.0  0.0  0.0  0.000000  0.0000  0.0  0.000000  0.000000   \n",
       "\n",
       "    51        52   53        54        55   56        57        58   59   60  \\\n",
       "0  0.0  0.000000  0.0  0.000000  0.758717  0.0  0.000000  0.379358  0.0  0.0   \n",
       "1  0.0  0.000000  0.0  0.000000  0.758717  0.0  0.000000  0.379358  0.0  0.0   \n",
       "2  0.0  0.000000  0.0  0.000000  0.000000  0.0  0.000000  0.000000  0.0  0.0   \n",
       "3  0.0  0.113168  0.0  0.162820  0.000000  0.0  0.170923  0.000000  0.0  0.0   \n",
       "4  0.0  0.000000  0.0  0.303233  0.000000  0.0  0.000000  0.000000  0.0  0.0   \n",
       "\n",
       "         61        62   63        64        65        66   67        68  \\\n",
       "0  0.000000  0.000000  0.0  0.000000  0.000000  0.000000  0.0  0.000000   \n",
       "1  0.000000  0.000000  0.0  0.000000  0.000000  0.000000  0.0  0.000000   \n",
       "2  0.000000  0.000000  0.0  0.353625  0.000000  0.000000  0.0  0.000000   \n",
       "3  0.000000  0.089941  0.0  0.000000  0.130276  0.134484  0.0  0.149608   \n",
       "4  0.290159  0.000000  0.0  0.000000  0.000000  0.000000  0.0  0.000000   \n",
       "\n",
       "         69   70   71        72        73        74        75        76  \\\n",
       "0  0.000000  0.0  0.0  0.000000  0.000000  0.000000  0.000000  0.000000   \n",
       "1  0.000000  0.0  0.0  0.000000  0.000000  0.000000  0.000000  0.000000   \n",
       "2  0.000000  0.0  0.0  0.000000  0.170886  0.000000  0.000000  0.174155   \n",
       "3  0.000000  0.0  0.0  0.000000  0.225866  0.139058  0.139058  0.153458   \n",
       "4  0.250461  0.0  0.0  0.210763  0.140216  0.517961  0.000000  0.000000   \n",
       "\n",
       "         77        78        79        80        81        82        83  \\\n",
       "0  0.000000  0.000000  0.000000  0.000000  0.000000  0.000000  0.000000   \n",
       "1  0.000000  0.000000  0.000000  0.000000  0.000000  0.000000  0.000000   \n",
       "2  0.000000  0.000000  0.315626  0.227614  0.000000  0.295693  0.000000   \n",
       "3  0.162820  0.134484  0.139058  0.100282  0.341847  0.000000  0.000000   \n",
       "4  0.303233  0.000000  0.000000  0.000000  0.000000  0.000000  0.278627   \n",
       "\n",
       "        84   85        86        87        88   89   90   91   92  \n",
       "0  0.00000  0.0  0.416183  0.000000  0.000000  0.0  0.0  0.0  0.0  \n",
       "1  0.00000  0.0  0.416183  0.000000  0.000000  0.0  0.0  0.0  0.0  \n",
       "2  0.00000  0.0  0.000000  0.000000  0.000000  0.0  0.0  0.0  0.0  \n",
       "3  0.25276  0.0  0.000000  0.358081  0.149608  0.0  0.0  0.0  0.0  \n",
       "4  0.00000  0.0  0.000000  0.000000  0.000000  0.0  0.0  0.0  0.0  "
      ],
      "text/html": "<div>\n<style scoped>\n    .dataframe tbody tr th:only-of-type {\n        vertical-align: middle;\n    }\n\n    .dataframe tbody tr th {\n        vertical-align: top;\n    }\n\n    .dataframe thead th {\n        text-align: right;\n    }\n</style>\n<table border=\"1\" class=\"dataframe\">\n  <thead>\n    <tr style=\"text-align: right;\">\n      <th></th>\n      <th>0</th>\n      <th>1</th>\n      <th>2</th>\n      <th>3</th>\n      <th>4</th>\n      <th>5</th>\n      <th>6</th>\n      <th>7</th>\n      <th>8</th>\n      <th>9</th>\n      <th>10</th>\n      <th>11</th>\n      <th>12</th>\n      <th>13</th>\n      <th>14</th>\n      <th>15</th>\n      <th>16</th>\n      <th>17</th>\n      <th>18</th>\n      <th>19</th>\n      <th>20</th>\n      <th>21</th>\n      <th>22</th>\n      <th>23</th>\n      <th>24</th>\n      <th>25</th>\n      <th>26</th>\n      <th>27</th>\n      <th>28</th>\n      <th>29</th>\n      <th>30</th>\n      <th>31</th>\n      <th>32</th>\n      <th>33</th>\n      <th>34</th>\n      <th>35</th>\n      <th>36</th>\n      <th>37</th>\n      <th>38</th>\n      <th>39</th>\n      <th>40</th>\n      <th>41</th>\n      <th>42</th>\n      <th>43</th>\n      <th>44</th>\n      <th>45</th>\n      <th>46</th>\n      <th>47</th>\n      <th>48</th>\n      <th>49</th>\n      <th>50</th>\n      <th>51</th>\n      <th>52</th>\n      <th>53</th>\n      <th>54</th>\n      <th>55</th>\n      <th>56</th>\n      <th>57</th>\n      <th>58</th>\n      <th>59</th>\n      <th>60</th>\n      <th>61</th>\n      <th>62</th>\n      <th>63</th>\n      <th>64</th>\n      <th>65</th>\n      <th>66</th>\n      <th>67</th>\n      <th>68</th>\n      <th>69</th>\n      <th>70</th>\n      <th>71</th>\n      <th>72</th>\n      <th>73</th>\n      <th>74</th>\n      <th>75</th>\n      <th>76</th>\n      <th>77</th>\n      <th>78</th>\n      <th>79</th>\n      <th>80</th>\n      <th>81</th>\n      <th>82</th>\n      <th>83</th>\n      <th>84</th>\n      <th>85</th>\n      <th>86</th>\n      <th>87</th>\n      <th>88</th>\n      <th>89</th>\n      <th>90</th>\n      <th>91</th>\n      <th>92</th>\n    </tr>\n  </thead>\n  <tbody>\n    <tr>\n      <th>0</th>\n      <td>45.0</td>\n      <td>1.0</td>\n      <td>1.0</td>\n      <td>0.0</td>\n      <td>-22.931581</td>\n      <td>-43.241237</td>\n      <td>287.944203</td>\n      <td>1.0</td>\n      <td>0.0</td>\n      <td>0.0</td>\n      <td>0.0</td>\n      <td>1.0</td>\n      <td>0.0</td>\n      <td>0.0</td>\n      <td>0.000000</td>\n      <td>0.0</td>\n      <td>0.0</td>\n      <td>0.000000</td>\n      <td>0.000000</td>\n      <td>0.000000</td>\n      <td>0.0</td>\n      <td>0.000000</td>\n      <td>0.0</td>\n      <td>0.000000</td>\n      <td>0.0</td>\n      <td>0.000000</td>\n      <td>0.000000</td>\n      <td>0.0</td>\n      <td>0.00000</td>\n      <td>0.0</td>\n      <td>0.0</td>\n      <td>0.0</td>\n      <td>0.000000</td>\n      <td>0.0</td>\n      <td>0.000000</td>\n      <td>0.0</td>\n      <td>0.00000</td>\n      <td>0.0</td>\n      <td>0.000000</td>\n      <td>0.0</td>\n      <td>0.0</td>\n      <td>0.00000</td>\n      <td>0.0</td>\n      <td>0.0</td>\n      <td>0.0</td>\n      <td>0.0</td>\n      <td>0.000000</td>\n      <td>0.0000</td>\n      <td>0.0</td>\n      <td>0.327457</td>\n      <td>0.000000</td>\n      <td>0.0</td>\n      <td>0.000000</td>\n      <td>0.0</td>\n      <td>0.000000</td>\n      <td>0.758717</td>\n      <td>0.0</td>\n      <td>0.000000</td>\n      <td>0.379358</td>\n      <td>0.0</td>\n      <td>0.0</td>\n      <td>0.000000</td>\n      <td>0.000000</td>\n      <td>0.0</td>\n      <td>0.000000</td>\n      <td>0.000000</td>\n      <td>0.000000</td>\n      <td>0.0</td>\n      <td>0.000000</td>\n      <td>0.000000</td>\n      <td>0.0</td>\n      <td>0.0</td>\n      <td>0.000000</td>\n      <td>0.000000</td>\n      <td>0.000000</td>\n      <td>0.000000</td>\n      <td>0.000000</td>\n      <td>0.000000</td>\n      <td>0.000000</td>\n      <td>0.000000</td>\n      <td>0.000000</td>\n      <td>0.000000</td>\n      <td>0.000000</td>\n      <td>0.000000</td>\n      <td>0.00000</td>\n      <td>0.0</td>\n      <td>0.416183</td>\n      <td>0.000000</td>\n      <td>0.000000</td>\n      <td>0.0</td>\n      <td>0.0</td>\n      <td>0.0</td>\n      <td>0.0</td>\n    </tr>\n    <tr>\n      <th>1</th>\n      <td>50.0</td>\n      <td>3.0</td>\n      <td>2.0</td>\n      <td>1.0</td>\n      <td>-22.931581</td>\n      <td>-43.241237</td>\n      <td>287.944203</td>\n      <td>1.0</td>\n      <td>0.0</td>\n      <td>0.0</td>\n      <td>0.0</td>\n      <td>1.0</td>\n      <td>0.0</td>\n      <td>0.0</td>\n      <td>0.000000</td>\n      <td>0.0</td>\n      <td>0.0</td>\n      <td>0.000000</td>\n      <td>0.000000</td>\n      <td>0.000000</td>\n      <td>0.0</td>\n      <td>0.000000</td>\n      <td>0.0</td>\n      <td>0.000000</td>\n      <td>0.0</td>\n      <td>0.000000</td>\n      <td>0.000000</td>\n      <td>0.0</td>\n      <td>0.00000</td>\n      <td>0.0</td>\n      <td>0.0</td>\n      <td>0.0</td>\n      <td>0.000000</td>\n      <td>0.0</td>\n      <td>0.000000</td>\n      <td>0.0</td>\n      <td>0.00000</td>\n      <td>0.0</td>\n      <td>0.000000</td>\n      <td>0.0</td>\n      <td>0.0</td>\n      <td>0.00000</td>\n      <td>0.0</td>\n      <td>0.0</td>\n      <td>0.0</td>\n      <td>0.0</td>\n      <td>0.000000</td>\n      <td>0.0000</td>\n      <td>0.0</td>\n      <td>0.327457</td>\n      <td>0.000000</td>\n      <td>0.0</td>\n      <td>0.000000</td>\n      <td>0.0</td>\n      <td>0.000000</td>\n      <td>0.758717</td>\n      <td>0.0</td>\n      <td>0.000000</td>\n      <td>0.379358</td>\n      <td>0.0</td>\n      <td>0.0</td>\n      <td>0.000000</td>\n      <td>0.000000</td>\n      <td>0.0</td>\n      <td>0.000000</td>\n      <td>0.000000</td>\n      <td>0.000000</td>\n      <td>0.0</td>\n      <td>0.000000</td>\n      <td>0.000000</td>\n      <td>0.0</td>\n      <td>0.0</td>\n      <td>0.000000</td>\n      <td>0.000000</td>\n      <td>0.000000</td>\n      <td>0.000000</td>\n      <td>0.000000</td>\n      <td>0.000000</td>\n      <td>0.000000</td>\n      <td>0.000000</td>\n      <td>0.000000</td>\n      <td>0.000000</td>\n      <td>0.000000</td>\n      <td>0.000000</td>\n      <td>0.00000</td>\n      <td>0.0</td>\n      <td>0.416183</td>\n      <td>0.000000</td>\n      <td>0.000000</td>\n      <td>0.0</td>\n      <td>0.0</td>\n      <td>0.0</td>\n      <td>0.0</td>\n    </tr>\n    <tr>\n      <th>2</th>\n      <td>78.0</td>\n      <td>2.0</td>\n      <td>1.0</td>\n      <td>0.0</td>\n      <td>-22.927777</td>\n      <td>-43.242436</td>\n      <td>653.841613</td>\n      <td>1.0</td>\n      <td>0.0</td>\n      <td>0.0</td>\n      <td>0.0</td>\n      <td>1.0</td>\n      <td>0.0</td>\n      <td>0.0</td>\n      <td>0.000000</td>\n      <td>0.0</td>\n      <td>0.0</td>\n      <td>0.387952</td>\n      <td>0.000000</td>\n      <td>0.000000</td>\n      <td>0.0</td>\n      <td>0.199955</td>\n      <td>0.0</td>\n      <td>0.000000</td>\n      <td>0.0</td>\n      <td>0.199955</td>\n      <td>0.000000</td>\n      <td>0.0</td>\n      <td>0.00000</td>\n      <td>0.0</td>\n      <td>0.0</td>\n      <td>0.0</td>\n      <td>0.000000</td>\n      <td>0.0</td>\n      <td>0.369558</td>\n      <td>0.0</td>\n      <td>0.00000</td>\n      <td>0.0</td>\n      <td>0.184537</td>\n      <td>0.0</td>\n      <td>0.0</td>\n      <td>0.28685</td>\n      <td>0.0</td>\n      <td>0.0</td>\n      <td>0.0</td>\n      <td>0.0</td>\n      <td>0.305244</td>\n      <td>0.0000</td>\n      <td>0.0</td>\n      <td>0.000000</td>\n      <td>0.000000</td>\n      <td>0.0</td>\n      <td>0.000000</td>\n      <td>0.0</td>\n      <td>0.000000</td>\n      <td>0.000000</td>\n      <td>0.0</td>\n      <td>0.000000</td>\n      <td>0.000000</td>\n      <td>0.0</td>\n      <td>0.0</td>\n      <td>0.000000</td>\n      <td>0.000000</td>\n      <td>0.0</td>\n      <td>0.353625</td>\n      <td>0.000000</td>\n      <td>0.000000</td>\n      <td>0.0</td>\n      <td>0.000000</td>\n      <td>0.000000</td>\n      <td>0.0</td>\n      <td>0.0</td>\n      <td>0.000000</td>\n      <td>0.170886</td>\n      <td>0.000000</td>\n      <td>0.000000</td>\n      <td>0.174155</td>\n      <td>0.000000</td>\n      <td>0.000000</td>\n      <td>0.315626</td>\n      <td>0.227614</td>\n      <td>0.000000</td>\n      <td>0.295693</td>\n      <td>0.000000</td>\n      <td>0.00000</td>\n      <td>0.0</td>\n      <td>0.000000</td>\n      <td>0.000000</td>\n      <td>0.000000</td>\n      <td>0.0</td>\n      <td>0.0</td>\n      <td>0.0</td>\n      <td>0.0</td>\n    </tr>\n    <tr>\n      <th>3</th>\n      <td>70.0</td>\n      <td>3.0</td>\n      <td>3.0</td>\n      <td>1.0</td>\n      <td>-22.920839</td>\n      <td>-43.234873</td>\n      <td>452.064166</td>\n      <td>1.0</td>\n      <td>0.0</td>\n      <td>1.0</td>\n      <td>0.0</td>\n      <td>0.0</td>\n      <td>0.0</td>\n      <td>0.0</td>\n      <td>0.170923</td>\n      <td>0.0</td>\n      <td>0.0</td>\n      <td>0.000000</td>\n      <td>0.000000</td>\n      <td>0.000000</td>\n      <td>0.0</td>\n      <td>0.088096</td>\n      <td>0.0</td>\n      <td>0.430518</td>\n      <td>0.0</td>\n      <td>0.000000</td>\n      <td>0.134484</td>\n      <td>0.0</td>\n      <td>0.16282</td>\n      <td>0.0</td>\n      <td>0.0</td>\n      <td>0.0</td>\n      <td>0.000000</td>\n      <td>0.0</td>\n      <td>0.000000</td>\n      <td>0.0</td>\n      <td>0.11936</td>\n      <td>0.0</td>\n      <td>0.081303</td>\n      <td>0.0</td>\n      <td>0.0</td>\n      <td>0.12638</td>\n      <td>0.0</td>\n      <td>0.0</td>\n      <td>0.0</td>\n      <td>0.0</td>\n      <td>0.000000</td>\n      <td>0.1558</td>\n      <td>0.0</td>\n      <td>0.000000</td>\n      <td>0.139058</td>\n      <td>0.0</td>\n      <td>0.113168</td>\n      <td>0.0</td>\n      <td>0.162820</td>\n      <td>0.000000</td>\n      <td>0.0</td>\n      <td>0.170923</td>\n      <td>0.000000</td>\n      <td>0.0</td>\n      <td>0.0</td>\n      <td>0.000000</td>\n      <td>0.089941</td>\n      <td>0.0</td>\n      <td>0.000000</td>\n      <td>0.130276</td>\n      <td>0.134484</td>\n      <td>0.0</td>\n      <td>0.149608</td>\n      <td>0.000000</td>\n      <td>0.0</td>\n      <td>0.0</td>\n      <td>0.000000</td>\n      <td>0.225866</td>\n      <td>0.139058</td>\n      <td>0.139058</td>\n      <td>0.153458</td>\n      <td>0.162820</td>\n      <td>0.134484</td>\n      <td>0.139058</td>\n      <td>0.100282</td>\n      <td>0.341847</td>\n      <td>0.000000</td>\n      <td>0.000000</td>\n      <td>0.25276</td>\n      <td>0.0</td>\n      <td>0.000000</td>\n      <td>0.358081</td>\n      <td>0.149608</td>\n      <td>0.0</td>\n      <td>0.0</td>\n      <td>0.0</td>\n      <td>0.0</td>\n    </tr>\n    <tr>\n      <th>4</th>\n      <td>120.0</td>\n      <td>2.0</td>\n      <td>2.0</td>\n      <td>1.0</td>\n      <td>-22.935822</td>\n      <td>-43.244696</td>\n      <td>724.504957</td>\n      <td>1.0</td>\n      <td>0.0</td>\n      <td>0.0</td>\n      <td>0.0</td>\n      <td>1.0</td>\n      <td>0.0</td>\n      <td>0.0</td>\n      <td>0.000000</td>\n      <td>0.0</td>\n      <td>0.0</td>\n      <td>0.000000</td>\n      <td>0.278627</td>\n      <td>0.303233</td>\n      <td>0.0</td>\n      <td>0.000000</td>\n      <td>0.0</td>\n      <td>0.200448</td>\n      <td>0.0</td>\n      <td>0.000000</td>\n      <td>0.000000</td>\n      <td>0.0</td>\n      <td>0.00000</td>\n      <td>0.0</td>\n      <td>0.0</td>\n      <td>0.0</td>\n      <td>0.222295</td>\n      <td>0.0</td>\n      <td>0.000000</td>\n      <td>0.0</td>\n      <td>0.00000</td>\n      <td>0.0</td>\n      <td>0.000000</td>\n      <td>0.0</td>\n      <td>0.0</td>\n      <td>0.00000</td>\n      <td>0.0</td>\n      <td>0.0</td>\n      <td>0.0</td>\n      <td>0.0</td>\n      <td>0.000000</td>\n      <td>0.0000</td>\n      <td>0.0</td>\n      <td>0.000000</td>\n      <td>0.000000</td>\n      <td>0.0</td>\n      <td>0.000000</td>\n      <td>0.0</td>\n      <td>0.303233</td>\n      <td>0.000000</td>\n      <td>0.0</td>\n      <td>0.000000</td>\n      <td>0.000000</td>\n      <td>0.0</td>\n      <td>0.0</td>\n      <td>0.290159</td>\n      <td>0.000000</td>\n      <td>0.0</td>\n      <td>0.000000</td>\n      <td>0.000000</td>\n      <td>0.000000</td>\n      <td>0.0</td>\n      <td>0.000000</td>\n      <td>0.250461</td>\n      <td>0.0</td>\n      <td>0.0</td>\n      <td>0.210763</td>\n      <td>0.140216</td>\n      <td>0.517961</td>\n      <td>0.000000</td>\n      <td>0.000000</td>\n      <td>0.303233</td>\n      <td>0.000000</td>\n      <td>0.000000</td>\n      <td>0.000000</td>\n      <td>0.000000</td>\n      <td>0.000000</td>\n      <td>0.278627</td>\n      <td>0.00000</td>\n      <td>0.0</td>\n      <td>0.000000</td>\n      <td>0.000000</td>\n      <td>0.000000</td>\n      <td>0.0</td>\n      <td>0.0</td>\n      <td>0.0</td>\n      <td>0.0</td>\n    </tr>\n  </tbody>\n</table>\n</div>"
     },
     "metadata": {},
     "execution_count": 23
    }
   ],
   "source": [
    "pd.DataFrame.sparse.from_spmatrix(X_train_e).head(5)"
   ]
  },
  {
   "cell_type": "code",
   "execution_count": 24,
   "metadata": {},
   "outputs": [
    {
     "output_type": "execute_result",
     "data": {
      "text/plain": [
       "<AxesSubplot:ylabel='Frequency'>"
      ]
     },
     "metadata": {},
     "execution_count": 24
    },
    {
     "output_type": "display_data",
     "data": {
      "text/plain": "<Figure size 432x288 with 1 Axes>",
      "image/svg+xml": "<?xml version=\"1.0\" encoding=\"utf-8\" standalone=\"no\"?>\n<!DOCTYPE svg PUBLIC \"-//W3C//DTD SVG 1.1//EN\"\n  \"http://www.w3.org/Graphics/SVG/1.1/DTD/svg11.dtd\">\n<!-- Created with matplotlib (https://matplotlib.org/) -->\n<svg height=\"248.518125pt\" version=\"1.1\" viewBox=\"0 0 382.603125 248.518125\" width=\"382.603125pt\" xmlns=\"http://www.w3.org/2000/svg\" xmlns:xlink=\"http://www.w3.org/1999/xlink\">\n <metadata>\n  <rdf:RDF xmlns:cc=\"http://creativecommons.org/ns#\" xmlns:dc=\"http://purl.org/dc/elements/1.1/\" xmlns:rdf=\"http://www.w3.org/1999/02/22-rdf-syntax-ns#\">\n   <cc:Work>\n    <dc:type rdf:resource=\"http://purl.org/dc/dcmitype/StillImage\"/>\n    <dc:date>2020-12-12T17:10:33.267052</dc:date>\n    <dc:format>image/svg+xml</dc:format>\n    <dc:creator>\n     <cc:Agent>\n      <dc:title>Matplotlib v3.3.1, https://matplotlib.org/</dc:title>\n     </cc:Agent>\n    </dc:creator>\n   </cc:Work>\n  </rdf:RDF>\n </metadata>\n <defs>\n  <style type=\"text/css\">*{stroke-linecap:butt;stroke-linejoin:round;}</style>\n </defs>\n <g id=\"figure_1\">\n  <g id=\"patch_1\">\n   <path d=\"M 0 248.518125 \nL 382.603125 248.518125 \nL 382.603125 0 \nL 0 0 \nz\n\" style=\"fill:none;\"/>\n  </g>\n  <g id=\"axes_1\">\n   <g id=\"patch_2\">\n    <path d=\"M 40.603125 224.64 \nL 375.403125 224.64 \nL 375.403125 7.2 \nL 40.603125 7.2 \nz\n\" style=\"fill:#ffffff;\"/>\n   </g>\n   <g id=\"patch_3\">\n    <path clip-path=\"url(#p7492eb3059)\" d=\"M 55.821307 224.64 \nL 86.25767 224.64 \nL 86.25767 168.162078 \nL 55.821307 168.162078 \nz\n\" style=\"fill:#1f77b4;\"/>\n   </g>\n   <g id=\"patch_4\">\n    <path clip-path=\"url(#p7492eb3059)\" d=\"M 86.25767 224.64 \nL 116.694034 224.64 \nL 116.694034 130.51013 \nL 86.25767 130.51013 \nz\n\" style=\"fill:#1f77b4;\"/>\n   </g>\n   <g id=\"patch_5\">\n    <path clip-path=\"url(#p7492eb3059)\" d=\"M 116.694034 224.64 \nL 147.130398 224.64 \nL 147.130398 17.554286 \nL 116.694034 17.554286 \nz\n\" style=\"fill:#1f77b4;\"/>\n   </g>\n   <g id=\"patch_6\">\n    <path clip-path=\"url(#p7492eb3059)\" d=\"M 147.130398 224.64 \nL 177.566761 224.64 \nL 177.566761 92.858182 \nL 147.130398 92.858182 \nz\n\" style=\"fill:#1f77b4;\"/>\n   </g>\n   <g id=\"patch_7\">\n    <path clip-path=\"url(#p7492eb3059)\" d=\"M 177.566761 224.64 \nL 208.003125 224.64 \nL 208.003125 36.38026 \nL 177.566761 36.38026 \nz\n\" style=\"fill:#1f77b4;\"/>\n   </g>\n   <g id=\"patch_8\">\n    <path clip-path=\"url(#p7492eb3059)\" d=\"M 208.003125 224.64 \nL 238.439489 224.64 \nL 238.439489 186.988052 \nL 208.003125 186.988052 \nz\n\" style=\"fill:#1f77b4;\"/>\n   </g>\n   <g id=\"patch_9\">\n    <path clip-path=\"url(#p7492eb3059)\" d=\"M 238.439489 224.64 \nL 268.875852 224.64 \nL 268.875852 130.51013 \nL 238.439489 130.51013 \nz\n\" style=\"fill:#1f77b4;\"/>\n   </g>\n   <g id=\"patch_10\">\n    <path clip-path=\"url(#p7492eb3059)\" d=\"M 268.875852 224.64 \nL 299.312216 224.64 \nL 299.312216 149.336104 \nL 268.875852 149.336104 \nz\n\" style=\"fill:#1f77b4;\"/>\n   </g>\n   <g id=\"patch_11\">\n    <path clip-path=\"url(#p7492eb3059)\" d=\"M 299.312216 224.64 \nL 329.74858 224.64 \nL 329.74858 186.988052 \nL 299.312216 186.988052 \nz\n\" style=\"fill:#1f77b4;\"/>\n   </g>\n   <g id=\"patch_12\">\n    <path clip-path=\"url(#p7492eb3059)\" d=\"M 329.74858 224.64 \nL 360.184943 224.64 \nL 360.184943 111.684156 \nL 329.74858 111.684156 \nz\n\" style=\"fill:#1f77b4;\"/>\n   </g>\n   <g id=\"matplotlib.axis_1\">\n    <g id=\"xtick_1\">\n     <g id=\"line2d_1\">\n      <defs>\n       <path d=\"M 0 0 \nL 0 3.5 \n\" id=\"mda432e4ba7\" style=\"stroke:#000000;stroke-width:0.8;\"/>\n      </defs>\n      <g>\n       <use style=\"stroke:#000000;stroke-width:0.8;\" x=\"66.316605\" xlink:href=\"#mda432e4ba7\" y=\"224.64\"/>\n      </g>\n     </g>\n     <g id=\"text_1\">\n      <!-- 1000 -->\n      <g transform=\"translate(53.591605 239.238437)scale(0.1 -0.1)\">\n       <defs>\n        <path d=\"M 12.40625 8.296875 \nL 28.515625 8.296875 \nL 28.515625 63.921875 \nL 10.984375 60.40625 \nL 10.984375 69.390625 \nL 28.421875 72.90625 \nL 38.28125 72.90625 \nL 38.28125 8.296875 \nL 54.390625 8.296875 \nL 54.390625 0 \nL 12.40625 0 \nz\n\" id=\"DejaVuSans-49\"/>\n        <path d=\"M 31.78125 66.40625 \nQ 24.171875 66.40625 20.328125 58.90625 \nQ 16.5 51.421875 16.5 36.375 \nQ 16.5 21.390625 20.328125 13.890625 \nQ 24.171875 6.390625 31.78125 6.390625 \nQ 39.453125 6.390625 43.28125 13.890625 \nQ 47.125 21.390625 47.125 36.375 \nQ 47.125 51.421875 43.28125 58.90625 \nQ 39.453125 66.40625 31.78125 66.40625 \nz\nM 31.78125 74.21875 \nQ 44.046875 74.21875 50.515625 64.515625 \nQ 56.984375 54.828125 56.984375 36.375 \nQ 56.984375 17.96875 50.515625 8.265625 \nQ 44.046875 -1.421875 31.78125 -1.421875 \nQ 19.53125 -1.421875 13.0625 8.265625 \nQ 6.59375 17.96875 6.59375 36.375 \nQ 6.59375 54.828125 13.0625 64.515625 \nQ 19.53125 74.21875 31.78125 74.21875 \nz\n\" id=\"DejaVuSans-48\"/>\n       </defs>\n       <use xlink:href=\"#DejaVuSans-49\"/>\n       <use x=\"63.623047\" xlink:href=\"#DejaVuSans-48\"/>\n       <use x=\"127.246094\" xlink:href=\"#DejaVuSans-48\"/>\n       <use x=\"190.869141\" xlink:href=\"#DejaVuSans-48\"/>\n      </g>\n     </g>\n    </g>\n    <g id=\"xtick_2\">\n     <g id=\"line2d_2\">\n      <g>\n       <use style=\"stroke:#000000;stroke-width:0.8;\" x=\"118.793094\" xlink:href=\"#mda432e4ba7\" y=\"224.64\"/>\n      </g>\n     </g>\n     <g id=\"text_2\">\n      <!-- 1500 -->\n      <g transform=\"translate(106.068094 239.238437)scale(0.1 -0.1)\">\n       <defs>\n        <path d=\"M 10.796875 72.90625 \nL 49.515625 72.90625 \nL 49.515625 64.59375 \nL 19.828125 64.59375 \nL 19.828125 46.734375 \nQ 21.96875 47.46875 24.109375 47.828125 \nQ 26.265625 48.1875 28.421875 48.1875 \nQ 40.625 48.1875 47.75 41.5 \nQ 54.890625 34.8125 54.890625 23.390625 \nQ 54.890625 11.625 47.5625 5.09375 \nQ 40.234375 -1.421875 26.90625 -1.421875 \nQ 22.3125 -1.421875 17.546875 -0.640625 \nQ 12.796875 0.140625 7.71875 1.703125 \nL 7.71875 11.625 \nQ 12.109375 9.234375 16.796875 8.0625 \nQ 21.484375 6.890625 26.703125 6.890625 \nQ 35.15625 6.890625 40.078125 11.328125 \nQ 45.015625 15.765625 45.015625 23.390625 \nQ 45.015625 31 40.078125 35.4375 \nQ 35.15625 39.890625 26.703125 39.890625 \nQ 22.75 39.890625 18.8125 39.015625 \nQ 14.890625 38.140625 10.796875 36.28125 \nz\n\" id=\"DejaVuSans-53\"/>\n       </defs>\n       <use xlink:href=\"#DejaVuSans-49\"/>\n       <use x=\"63.623047\" xlink:href=\"#DejaVuSans-53\"/>\n       <use x=\"127.246094\" xlink:href=\"#DejaVuSans-48\"/>\n       <use x=\"190.869141\" xlink:href=\"#DejaVuSans-48\"/>\n      </g>\n     </g>\n    </g>\n    <g id=\"xtick_3\">\n     <g id=\"line2d_3\">\n      <g>\n       <use style=\"stroke:#000000;stroke-width:0.8;\" x=\"171.269583\" xlink:href=\"#mda432e4ba7\" y=\"224.64\"/>\n      </g>\n     </g>\n     <g id=\"text_3\">\n      <!-- 2000 -->\n      <g transform=\"translate(158.544583 239.238437)scale(0.1 -0.1)\">\n       <defs>\n        <path d=\"M 19.1875 8.296875 \nL 53.609375 8.296875 \nL 53.609375 0 \nL 7.328125 0 \nL 7.328125 8.296875 \nQ 12.9375 14.109375 22.625 23.890625 \nQ 32.328125 33.6875 34.8125 36.53125 \nQ 39.546875 41.84375 41.421875 45.53125 \nQ 43.3125 49.21875 43.3125 52.78125 \nQ 43.3125 58.59375 39.234375 62.25 \nQ 35.15625 65.921875 28.609375 65.921875 \nQ 23.96875 65.921875 18.8125 64.3125 \nQ 13.671875 62.703125 7.8125 59.421875 \nL 7.8125 69.390625 \nQ 13.765625 71.78125 18.9375 73 \nQ 24.125 74.21875 28.421875 74.21875 \nQ 39.75 74.21875 46.484375 68.546875 \nQ 53.21875 62.890625 53.21875 53.421875 \nQ 53.21875 48.921875 51.53125 44.890625 \nQ 49.859375 40.875 45.40625 35.40625 \nQ 44.1875 33.984375 37.640625 27.21875 \nQ 31.109375 20.453125 19.1875 8.296875 \nz\n\" id=\"DejaVuSans-50\"/>\n       </defs>\n       <use xlink:href=\"#DejaVuSans-50\"/>\n       <use x=\"63.623047\" xlink:href=\"#DejaVuSans-48\"/>\n       <use x=\"127.246094\" xlink:href=\"#DejaVuSans-48\"/>\n       <use x=\"190.869141\" xlink:href=\"#DejaVuSans-48\"/>\n      </g>\n     </g>\n    </g>\n    <g id=\"xtick_4\">\n     <g id=\"line2d_4\">\n      <g>\n       <use style=\"stroke:#000000;stroke-width:0.8;\" x=\"223.746072\" xlink:href=\"#mda432e4ba7\" y=\"224.64\"/>\n      </g>\n     </g>\n     <g id=\"text_4\">\n      <!-- 2500 -->\n      <g transform=\"translate(211.021072 239.238437)scale(0.1 -0.1)\">\n       <use xlink:href=\"#DejaVuSans-50\"/>\n       <use x=\"63.623047\" xlink:href=\"#DejaVuSans-53\"/>\n       <use x=\"127.246094\" xlink:href=\"#DejaVuSans-48\"/>\n       <use x=\"190.869141\" xlink:href=\"#DejaVuSans-48\"/>\n      </g>\n     </g>\n    </g>\n    <g id=\"xtick_5\">\n     <g id=\"line2d_5\">\n      <g>\n       <use style=\"stroke:#000000;stroke-width:0.8;\" x=\"276.222561\" xlink:href=\"#mda432e4ba7\" y=\"224.64\"/>\n      </g>\n     </g>\n     <g id=\"text_5\">\n      <!-- 3000 -->\n      <g transform=\"translate(263.497561 239.238437)scale(0.1 -0.1)\">\n       <defs>\n        <path d=\"M 40.578125 39.3125 \nQ 47.65625 37.796875 51.625 33 \nQ 55.609375 28.21875 55.609375 21.1875 \nQ 55.609375 10.40625 48.1875 4.484375 \nQ 40.765625 -1.421875 27.09375 -1.421875 \nQ 22.515625 -1.421875 17.65625 -0.515625 \nQ 12.796875 0.390625 7.625 2.203125 \nL 7.625 11.71875 \nQ 11.71875 9.328125 16.59375 8.109375 \nQ 21.484375 6.890625 26.8125 6.890625 \nQ 36.078125 6.890625 40.9375 10.546875 \nQ 45.796875 14.203125 45.796875 21.1875 \nQ 45.796875 27.640625 41.28125 31.265625 \nQ 36.765625 34.90625 28.71875 34.90625 \nL 20.21875 34.90625 \nL 20.21875 43.015625 \nL 29.109375 43.015625 \nQ 36.375 43.015625 40.234375 45.921875 \nQ 44.09375 48.828125 44.09375 54.296875 \nQ 44.09375 59.90625 40.109375 62.90625 \nQ 36.140625 65.921875 28.71875 65.921875 \nQ 24.65625 65.921875 20.015625 65.03125 \nQ 15.375 64.15625 9.8125 62.3125 \nL 9.8125 71.09375 \nQ 15.4375 72.65625 20.34375 73.4375 \nQ 25.25 74.21875 29.59375 74.21875 \nQ 40.828125 74.21875 47.359375 69.109375 \nQ 53.90625 64.015625 53.90625 55.328125 \nQ 53.90625 49.265625 50.4375 45.09375 \nQ 46.96875 40.921875 40.578125 39.3125 \nz\n\" id=\"DejaVuSans-51\"/>\n       </defs>\n       <use xlink:href=\"#DejaVuSans-51\"/>\n       <use x=\"63.623047\" xlink:href=\"#DejaVuSans-48\"/>\n       <use x=\"127.246094\" xlink:href=\"#DejaVuSans-48\"/>\n       <use x=\"190.869141\" xlink:href=\"#DejaVuSans-48\"/>\n      </g>\n     </g>\n    </g>\n    <g id=\"xtick_6\">\n     <g id=\"line2d_6\">\n      <g>\n       <use style=\"stroke:#000000;stroke-width:0.8;\" x=\"328.69905\" xlink:href=\"#mda432e4ba7\" y=\"224.64\"/>\n      </g>\n     </g>\n     <g id=\"text_6\">\n      <!-- 3500 -->\n      <g transform=\"translate(315.97405 239.238437)scale(0.1 -0.1)\">\n       <use xlink:href=\"#DejaVuSans-51\"/>\n       <use x=\"63.623047\" xlink:href=\"#DejaVuSans-53\"/>\n       <use x=\"127.246094\" xlink:href=\"#DejaVuSans-48\"/>\n       <use x=\"190.869141\" xlink:href=\"#DejaVuSans-48\"/>\n      </g>\n     </g>\n    </g>\n   </g>\n   <g id=\"matplotlib.axis_2\">\n    <g id=\"ytick_1\">\n     <g id=\"line2d_7\">\n      <defs>\n       <path d=\"M 0 0 \nL -3.5 0 \n\" id=\"m780c6dc435\" style=\"stroke:#000000;stroke-width:0.8;\"/>\n      </defs>\n      <g>\n       <use style=\"stroke:#000000;stroke-width:0.8;\" x=\"40.603125\" xlink:href=\"#m780c6dc435\" y=\"224.64\"/>\n      </g>\n     </g>\n     <g id=\"text_7\">\n      <!-- 0 -->\n      <g transform=\"translate(27.240625 228.439219)scale(0.1 -0.1)\">\n       <use xlink:href=\"#DejaVuSans-48\"/>\n      </g>\n     </g>\n    </g>\n    <g id=\"ytick_2\">\n     <g id=\"line2d_8\">\n      <g>\n       <use style=\"stroke:#000000;stroke-width:0.8;\" x=\"40.603125\" xlink:href=\"#m780c6dc435\" y=\"186.988052\"/>\n      </g>\n     </g>\n     <g id=\"text_8\">\n      <!-- 2 -->\n      <g transform=\"translate(27.240625 190.787271)scale(0.1 -0.1)\">\n       <use xlink:href=\"#DejaVuSans-50\"/>\n      </g>\n     </g>\n    </g>\n    <g id=\"ytick_3\">\n     <g id=\"line2d_9\">\n      <g>\n       <use style=\"stroke:#000000;stroke-width:0.8;\" x=\"40.603125\" xlink:href=\"#m780c6dc435\" y=\"149.336104\"/>\n      </g>\n     </g>\n     <g id=\"text_9\">\n      <!-- 4 -->\n      <g transform=\"translate(27.240625 153.135323)scale(0.1 -0.1)\">\n       <defs>\n        <path d=\"M 37.796875 64.3125 \nL 12.890625 25.390625 \nL 37.796875 25.390625 \nz\nM 35.203125 72.90625 \nL 47.609375 72.90625 \nL 47.609375 25.390625 \nL 58.015625 25.390625 \nL 58.015625 17.1875 \nL 47.609375 17.1875 \nL 47.609375 0 \nL 37.796875 0 \nL 37.796875 17.1875 \nL 4.890625 17.1875 \nL 4.890625 26.703125 \nz\n\" id=\"DejaVuSans-52\"/>\n       </defs>\n       <use xlink:href=\"#DejaVuSans-52\"/>\n      </g>\n     </g>\n    </g>\n    <g id=\"ytick_4\">\n     <g id=\"line2d_10\">\n      <g>\n       <use style=\"stroke:#000000;stroke-width:0.8;\" x=\"40.603125\" xlink:href=\"#m780c6dc435\" y=\"111.684156\"/>\n      </g>\n     </g>\n     <g id=\"text_10\">\n      <!-- 6 -->\n      <g transform=\"translate(27.240625 115.483375)scale(0.1 -0.1)\">\n       <defs>\n        <path d=\"M 33.015625 40.375 \nQ 26.375 40.375 22.484375 35.828125 \nQ 18.609375 31.296875 18.609375 23.390625 \nQ 18.609375 15.53125 22.484375 10.953125 \nQ 26.375 6.390625 33.015625 6.390625 \nQ 39.65625 6.390625 43.53125 10.953125 \nQ 47.40625 15.53125 47.40625 23.390625 \nQ 47.40625 31.296875 43.53125 35.828125 \nQ 39.65625 40.375 33.015625 40.375 \nz\nM 52.59375 71.296875 \nL 52.59375 62.3125 \nQ 48.875 64.0625 45.09375 64.984375 \nQ 41.3125 65.921875 37.59375 65.921875 \nQ 27.828125 65.921875 22.671875 59.328125 \nQ 17.53125 52.734375 16.796875 39.40625 \nQ 19.671875 43.65625 24.015625 45.921875 \nQ 28.375 48.1875 33.59375 48.1875 \nQ 44.578125 48.1875 50.953125 41.515625 \nQ 57.328125 34.859375 57.328125 23.390625 \nQ 57.328125 12.15625 50.6875 5.359375 \nQ 44.046875 -1.421875 33.015625 -1.421875 \nQ 20.359375 -1.421875 13.671875 8.265625 \nQ 6.984375 17.96875 6.984375 36.375 \nQ 6.984375 53.65625 15.1875 63.9375 \nQ 23.390625 74.21875 37.203125 74.21875 \nQ 40.921875 74.21875 44.703125 73.484375 \nQ 48.484375 72.75 52.59375 71.296875 \nz\n\" id=\"DejaVuSans-54\"/>\n       </defs>\n       <use xlink:href=\"#DejaVuSans-54\"/>\n      </g>\n     </g>\n    </g>\n    <g id=\"ytick_5\">\n     <g id=\"line2d_11\">\n      <g>\n       <use style=\"stroke:#000000;stroke-width:0.8;\" x=\"40.603125\" xlink:href=\"#m780c6dc435\" y=\"74.032208\"/>\n      </g>\n     </g>\n     <g id=\"text_11\">\n      <!-- 8 -->\n      <g transform=\"translate(27.240625 77.831427)scale(0.1 -0.1)\">\n       <defs>\n        <path d=\"M 31.78125 34.625 \nQ 24.75 34.625 20.71875 30.859375 \nQ 16.703125 27.09375 16.703125 20.515625 \nQ 16.703125 13.921875 20.71875 10.15625 \nQ 24.75 6.390625 31.78125 6.390625 \nQ 38.8125 6.390625 42.859375 10.171875 \nQ 46.921875 13.96875 46.921875 20.515625 \nQ 46.921875 27.09375 42.890625 30.859375 \nQ 38.875 34.625 31.78125 34.625 \nz\nM 21.921875 38.8125 \nQ 15.578125 40.375 12.03125 44.71875 \nQ 8.5 49.078125 8.5 55.328125 \nQ 8.5 64.0625 14.71875 69.140625 \nQ 20.953125 74.21875 31.78125 74.21875 \nQ 42.671875 74.21875 48.875 69.140625 \nQ 55.078125 64.0625 55.078125 55.328125 \nQ 55.078125 49.078125 51.53125 44.71875 \nQ 48 40.375 41.703125 38.8125 \nQ 48.828125 37.15625 52.796875 32.3125 \nQ 56.78125 27.484375 56.78125 20.515625 \nQ 56.78125 9.90625 50.3125 4.234375 \nQ 43.84375 -1.421875 31.78125 -1.421875 \nQ 19.734375 -1.421875 13.25 4.234375 \nQ 6.78125 9.90625 6.78125 20.515625 \nQ 6.78125 27.484375 10.78125 32.3125 \nQ 14.796875 37.15625 21.921875 38.8125 \nz\nM 18.3125 54.390625 \nQ 18.3125 48.734375 21.84375 45.5625 \nQ 25.390625 42.390625 31.78125 42.390625 \nQ 38.140625 42.390625 41.71875 45.5625 \nQ 45.3125 48.734375 45.3125 54.390625 \nQ 45.3125 60.0625 41.71875 63.234375 \nQ 38.140625 66.40625 31.78125 66.40625 \nQ 25.390625 66.40625 21.84375 63.234375 \nQ 18.3125 60.0625 18.3125 54.390625 \nz\n\" id=\"DejaVuSans-56\"/>\n       </defs>\n       <use xlink:href=\"#DejaVuSans-56\"/>\n      </g>\n     </g>\n    </g>\n    <g id=\"ytick_6\">\n     <g id=\"line2d_12\">\n      <g>\n       <use style=\"stroke:#000000;stroke-width:0.8;\" x=\"40.603125\" xlink:href=\"#m780c6dc435\" y=\"36.38026\"/>\n      </g>\n     </g>\n     <g id=\"text_12\">\n      <!-- 10 -->\n      <g transform=\"translate(20.878125 40.179478)scale(0.1 -0.1)\">\n       <use xlink:href=\"#DejaVuSans-49\"/>\n       <use x=\"63.623047\" xlink:href=\"#DejaVuSans-48\"/>\n      </g>\n     </g>\n    </g>\n    <g id=\"text_13\">\n     <!-- Frequency -->\n     <g transform=\"translate(14.798438 141.749687)rotate(-90)scale(0.1 -0.1)\">\n      <defs>\n       <path d=\"M 9.8125 72.90625 \nL 51.703125 72.90625 \nL 51.703125 64.59375 \nL 19.671875 64.59375 \nL 19.671875 43.109375 \nL 48.578125 43.109375 \nL 48.578125 34.8125 \nL 19.671875 34.8125 \nL 19.671875 0 \nL 9.8125 0 \nz\n\" id=\"DejaVuSans-70\"/>\n       <path d=\"M 41.109375 46.296875 \nQ 39.59375 47.171875 37.8125 47.578125 \nQ 36.03125 48 33.890625 48 \nQ 26.265625 48 22.1875 43.046875 \nQ 18.109375 38.09375 18.109375 28.8125 \nL 18.109375 0 \nL 9.078125 0 \nL 9.078125 54.6875 \nL 18.109375 54.6875 \nL 18.109375 46.1875 \nQ 20.953125 51.171875 25.484375 53.578125 \nQ 30.03125 56 36.53125 56 \nQ 37.453125 56 38.578125 55.875 \nQ 39.703125 55.765625 41.0625 55.515625 \nz\n\" id=\"DejaVuSans-114\"/>\n       <path d=\"M 56.203125 29.59375 \nL 56.203125 25.203125 \nL 14.890625 25.203125 \nQ 15.484375 15.921875 20.484375 11.0625 \nQ 25.484375 6.203125 34.421875 6.203125 \nQ 39.59375 6.203125 44.453125 7.46875 \nQ 49.3125 8.734375 54.109375 11.28125 \nL 54.109375 2.78125 \nQ 49.265625 0.734375 44.1875 -0.34375 \nQ 39.109375 -1.421875 33.890625 -1.421875 \nQ 20.796875 -1.421875 13.15625 6.1875 \nQ 5.515625 13.8125 5.515625 26.8125 \nQ 5.515625 40.234375 12.765625 48.109375 \nQ 20.015625 56 32.328125 56 \nQ 43.359375 56 49.78125 48.890625 \nQ 56.203125 41.796875 56.203125 29.59375 \nz\nM 47.21875 32.234375 \nQ 47.125 39.59375 43.09375 43.984375 \nQ 39.0625 48.390625 32.421875 48.390625 \nQ 24.90625 48.390625 20.390625 44.140625 \nQ 15.875 39.890625 15.1875 32.171875 \nz\n\" id=\"DejaVuSans-101\"/>\n       <path d=\"M 14.796875 27.296875 \nQ 14.796875 17.390625 18.875 11.75 \nQ 22.953125 6.109375 30.078125 6.109375 \nQ 37.203125 6.109375 41.296875 11.75 \nQ 45.40625 17.390625 45.40625 27.296875 \nQ 45.40625 37.203125 41.296875 42.84375 \nQ 37.203125 48.484375 30.078125 48.484375 \nQ 22.953125 48.484375 18.875 42.84375 \nQ 14.796875 37.203125 14.796875 27.296875 \nz\nM 45.40625 8.203125 \nQ 42.578125 3.328125 38.25 0.953125 \nQ 33.9375 -1.421875 27.875 -1.421875 \nQ 17.96875 -1.421875 11.734375 6.484375 \nQ 5.515625 14.40625 5.515625 27.296875 \nQ 5.515625 40.1875 11.734375 48.09375 \nQ 17.96875 56 27.875 56 \nQ 33.9375 56 38.25 53.625 \nQ 42.578125 51.265625 45.40625 46.390625 \nL 45.40625 54.6875 \nL 54.390625 54.6875 \nL 54.390625 -20.796875 \nL 45.40625 -20.796875 \nz\n\" id=\"DejaVuSans-113\"/>\n       <path d=\"M 8.5 21.578125 \nL 8.5 54.6875 \nL 17.484375 54.6875 \nL 17.484375 21.921875 \nQ 17.484375 14.15625 20.5 10.265625 \nQ 23.53125 6.390625 29.59375 6.390625 \nQ 36.859375 6.390625 41.078125 11.03125 \nQ 45.3125 15.671875 45.3125 23.6875 \nL 45.3125 54.6875 \nL 54.296875 54.6875 \nL 54.296875 0 \nL 45.3125 0 \nL 45.3125 8.40625 \nQ 42.046875 3.421875 37.71875 1 \nQ 33.40625 -1.421875 27.6875 -1.421875 \nQ 18.265625 -1.421875 13.375 4.4375 \nQ 8.5 10.296875 8.5 21.578125 \nz\nM 31.109375 56 \nz\n\" id=\"DejaVuSans-117\"/>\n       <path d=\"M 54.890625 33.015625 \nL 54.890625 0 \nL 45.90625 0 \nL 45.90625 32.71875 \nQ 45.90625 40.484375 42.875 44.328125 \nQ 39.84375 48.1875 33.796875 48.1875 \nQ 26.515625 48.1875 22.3125 43.546875 \nQ 18.109375 38.921875 18.109375 30.90625 \nL 18.109375 0 \nL 9.078125 0 \nL 9.078125 54.6875 \nL 18.109375 54.6875 \nL 18.109375 46.1875 \nQ 21.34375 51.125 25.703125 53.5625 \nQ 30.078125 56 35.796875 56 \nQ 45.21875 56 50.046875 50.171875 \nQ 54.890625 44.34375 54.890625 33.015625 \nz\n\" id=\"DejaVuSans-110\"/>\n       <path d=\"M 48.78125 52.59375 \nL 48.78125 44.1875 \nQ 44.96875 46.296875 41.140625 47.34375 \nQ 37.3125 48.390625 33.40625 48.390625 \nQ 24.65625 48.390625 19.8125 42.84375 \nQ 14.984375 37.3125 14.984375 27.296875 \nQ 14.984375 17.28125 19.8125 11.734375 \nQ 24.65625 6.203125 33.40625 6.203125 \nQ 37.3125 6.203125 41.140625 7.25 \nQ 44.96875 8.296875 48.78125 10.40625 \nL 48.78125 2.09375 \nQ 45.015625 0.34375 40.984375 -0.53125 \nQ 36.96875 -1.421875 32.421875 -1.421875 \nQ 20.0625 -1.421875 12.78125 6.34375 \nQ 5.515625 14.109375 5.515625 27.296875 \nQ 5.515625 40.671875 12.859375 48.328125 \nQ 20.21875 56 33.015625 56 \nQ 37.15625 56 41.109375 55.140625 \nQ 45.0625 54.296875 48.78125 52.59375 \nz\n\" id=\"DejaVuSans-99\"/>\n       <path d=\"M 32.171875 -5.078125 \nQ 28.375 -14.84375 24.75 -17.8125 \nQ 21.140625 -20.796875 15.09375 -20.796875 \nL 7.90625 -20.796875 \nL 7.90625 -13.28125 \nL 13.1875 -13.28125 \nQ 16.890625 -13.28125 18.9375 -11.515625 \nQ 21 -9.765625 23.484375 -3.21875 \nL 25.09375 0.875 \nL 2.984375 54.6875 \nL 12.5 54.6875 \nL 29.59375 11.921875 \nL 46.6875 54.6875 \nL 56.203125 54.6875 \nz\n\" id=\"DejaVuSans-121\"/>\n      </defs>\n      <use xlink:href=\"#DejaVuSans-70\"/>\n      <use x=\"50.269531\" xlink:href=\"#DejaVuSans-114\"/>\n      <use x=\"89.132812\" xlink:href=\"#DejaVuSans-101\"/>\n      <use x=\"150.65625\" xlink:href=\"#DejaVuSans-113\"/>\n      <use x=\"214.132812\" xlink:href=\"#DejaVuSans-117\"/>\n      <use x=\"277.511719\" xlink:href=\"#DejaVuSans-101\"/>\n      <use x=\"339.035156\" xlink:href=\"#DejaVuSans-110\"/>\n      <use x=\"402.414062\" xlink:href=\"#DejaVuSans-99\"/>\n      <use x=\"457.394531\" xlink:href=\"#DejaVuSans-121\"/>\n     </g>\n    </g>\n   </g>\n   <g id=\"patch_13\">\n    <path d=\"M 40.603125 224.64 \nL 40.603125 7.2 \n\" style=\"fill:none;stroke:#000000;stroke-linecap:square;stroke-linejoin:miter;stroke-width:0.8;\"/>\n   </g>\n   <g id=\"patch_14\">\n    <path d=\"M 375.403125 224.64 \nL 375.403125 7.2 \n\" style=\"fill:none;stroke:#000000;stroke-linecap:square;stroke-linejoin:miter;stroke-width:0.8;\"/>\n   </g>\n   <g id=\"patch_15\">\n    <path d=\"M 40.603125 224.64 \nL 375.403125 224.64 \n\" style=\"fill:none;stroke:#000000;stroke-linecap:square;stroke-linejoin:miter;stroke-width:0.8;\"/>\n   </g>\n   <g id=\"patch_16\">\n    <path d=\"M 40.603125 7.2 \nL 375.403125 7.2 \n\" style=\"fill:none;stroke:#000000;stroke-linecap:square;stroke-linejoin:miter;stroke-width:0.8;\"/>\n   </g>\n  </g>\n </g>\n <defs>\n  <clipPath id=\"p7492eb3059\">\n   <rect height=\"217.44\" width=\"334.8\" x=\"40.603125\" y=\"7.2\"/>\n  </clipPath>\n </defs>\n</svg>\n",
      "image/png": "[encoded data removed]"
     },
     "metadata": {
      "needs_background": "light"
     }
    }
   ],
   "source": [
    "y_train.plot.hist()"
   ]
  },
  {
   "cell_type": "code",
   "execution_count": 25,
   "metadata": {},
   "outputs": [
    {
     "output_type": "execute_result",
     "data": {
      "text/plain": [
       "<AxesSubplot:ylabel='Frequency'>"
      ]
     },
     "metadata": {},
     "execution_count": 25
    },
    {
     "output_type": "display_data",
     "data": {
      "text/plain": "<Figure size 432x288 with 1 Axes>",
      "image/svg+xml": "<?xml version=\"1.0\" encoding=\"utf-8\" standalone=\"no\"?>\n<!DOCTYPE svg PUBLIC \"-//W3C//DTD SVG 1.1//EN\"\n  \"http://www.w3.org/Graphics/SVG/1.1/DTD/svg11.dtd\">\n<!-- Created with matplotlib (https://matplotlib.org/) -->\n<svg height=\"248.518125pt\" version=\"1.1\" viewBox=\"0 0 385.78125 248.518125\" width=\"385.78125pt\" xmlns=\"http://www.w3.org/2000/svg\" xmlns:xlink=\"http://www.w3.org/1999/xlink\">\n <metadata>\n  <rdf:RDF xmlns:cc=\"http://creativecommons.org/ns#\" xmlns:dc=\"http://purl.org/dc/elements/1.1/\" xmlns:rdf=\"http://www.w3.org/1999/02/22-rdf-syntax-ns#\">\n   <cc:Work>\n    <dc:type rdf:resource=\"http://purl.org/dc/dcmitype/StillImage\"/>\n    <dc:date>2020-12-12T17:10:34.495955</dc:date>\n    <dc:format>image/svg+xml</dc:format>\n    <dc:creator>\n     <cc:Agent>\n      <dc:title>Matplotlib v3.3.1, https://matplotlib.org/</dc:title>\n     </cc:Agent>\n    </dc:creator>\n   </cc:Work>\n  </rdf:RDF>\n </metadata>\n <defs>\n  <style type=\"text/css\">*{stroke-linecap:butt;stroke-linejoin:round;}</style>\n </defs>\n <g id=\"figure_1\">\n  <g id=\"patch_1\">\n   <path d=\"M 0 248.518125 \nL 385.78125 248.518125 \nL 385.78125 0 \nL 0 0 \nz\n\" style=\"fill:none;\"/>\n  </g>\n  <g id=\"axes_1\">\n   <g id=\"patch_2\">\n    <path d=\"M 43.78125 224.64 \nL 378.58125 224.64 \nL 378.58125 7.2 \nL 43.78125 7.2 \nz\n\" style=\"fill:#ffffff;\"/>\n   </g>\n   <g id=\"patch_3\">\n    <path clip-path=\"url(#pc4a0a661ce)\" d=\"M 58.999432 224.64 \nL 89.435795 224.64 \nL 89.435795 69.325714 \nL 58.999432 69.325714 \nz\n\" style=\"fill:#1f77b4;\"/>\n   </g>\n   <g id=\"patch_4\">\n    <path clip-path=\"url(#pc4a0a661ce)\" d=\"M 89.435795 224.64 \nL 119.872159 224.64 \nL 119.872159 121.097143 \nL 89.435795 121.097143 \nz\n\" style=\"fill:#1f77b4;\"/>\n   </g>\n   <g id=\"patch_5\">\n    <path clip-path=\"url(#pc4a0a661ce)\" d=\"M 119.872159 224.64 \nL 150.308523 224.64 \nL 150.308523 17.554286 \nL 119.872159 17.554286 \nz\n\" style=\"fill:#1f77b4;\"/>\n   </g>\n   <g id=\"patch_6\">\n    <path clip-path=\"url(#pc4a0a661ce)\" d=\"M 150.308523 224.64 \nL 180.744886 224.64 \nL 180.744886 69.325714 \nL 150.308523 69.325714 \nz\n\" style=\"fill:#1f77b4;\"/>\n   </g>\n   <g id=\"patch_7\">\n    <path clip-path=\"url(#pc4a0a661ce)\" d=\"M 180.744886 224.64 \nL 211.18125 224.64 \nL 211.18125 121.097143 \nL 180.744886 121.097143 \nz\n\" style=\"fill:#1f77b4;\"/>\n   </g>\n   <g id=\"patch_8\">\n    <path clip-path=\"url(#pc4a0a661ce)\" d=\"M 211.18125 224.64 \nL 241.617614 224.64 \nL 241.617614 69.325714 \nL 211.18125 69.325714 \nz\n\" style=\"fill:#1f77b4;\"/>\n   </g>\n   <g id=\"patch_9\">\n    <path clip-path=\"url(#pc4a0a661ce)\" d=\"M 241.617614 224.64 \nL 272.053977 224.64 \nL 272.053977 224.64 \nL 241.617614 224.64 \nz\n\" style=\"fill:#1f77b4;\"/>\n   </g>\n   <g id=\"patch_10\">\n    <path clip-path=\"url(#pc4a0a661ce)\" d=\"M 272.053977 224.64 \nL 302.490341 224.64 \nL 302.490341 224.64 \nL 272.053977 224.64 \nz\n\" style=\"fill:#1f77b4;\"/>\n   </g>\n   <g id=\"patch_11\">\n    <path clip-path=\"url(#pc4a0a661ce)\" d=\"M 302.490341 224.64 \nL 332.926705 224.64 \nL 332.926705 224.64 \nL 302.490341 224.64 \nz\n\" style=\"fill:#1f77b4;\"/>\n   </g>\n   <g id=\"patch_12\">\n    <path clip-path=\"url(#pc4a0a661ce)\" d=\"M 332.926705 224.64 \nL 363.363068 224.64 \nL 363.363068 121.097143 \nL 332.926705 121.097143 \nz\n\" style=\"fill:#1f77b4;\"/>\n   </g>\n   <g id=\"matplotlib.axis_1\">\n    <g id=\"xtick_1\">\n     <g id=\"line2d_1\">\n      <defs>\n       <path d=\"M 0 0 \nL 0 3.5 \n\" id=\"m8b020d6e3a\" style=\"stroke:#000000;stroke-width:0.8;\"/>\n      </defs>\n      <g>\n       <use style=\"stroke:#000000;stroke-width:0.8;\" x=\"58.214122\" xlink:href=\"#m8b020d6e3a\" y=\"224.64\"/>\n      </g>\n     </g>\n     <g id=\"text_1\">\n      <!-- 1000 -->\n      <g transform=\"translate(45.489122 239.238437)scale(0.1 -0.1)\">\n       <defs>\n        <path d=\"M 12.40625 8.296875 \nL 28.515625 8.296875 \nL 28.515625 63.921875 \nL 10.984375 60.40625 \nL 10.984375 69.390625 \nL 28.421875 72.90625 \nL 38.28125 72.90625 \nL 38.28125 8.296875 \nL 54.390625 8.296875 \nL 54.390625 0 \nL 12.40625 0 \nz\n\" id=\"DejaVuSans-49\"/>\n        <path d=\"M 31.78125 66.40625 \nQ 24.171875 66.40625 20.328125 58.90625 \nQ 16.5 51.421875 16.5 36.375 \nQ 16.5 21.390625 20.328125 13.890625 \nQ 24.171875 6.390625 31.78125 6.390625 \nQ 39.453125 6.390625 43.28125 13.890625 \nQ 47.125 21.390625 47.125 36.375 \nQ 47.125 51.421875 43.28125 58.90625 \nQ 39.453125 66.40625 31.78125 66.40625 \nz\nM 31.78125 74.21875 \nQ 44.046875 74.21875 50.515625 64.515625 \nQ 56.984375 54.828125 56.984375 36.375 \nQ 56.984375 17.96875 50.515625 8.265625 \nQ 44.046875 -1.421875 31.78125 -1.421875 \nQ 19.53125 -1.421875 13.0625 8.265625 \nQ 6.59375 17.96875 6.59375 36.375 \nQ 6.59375 54.828125 13.0625 64.515625 \nQ 19.53125 74.21875 31.78125 74.21875 \nz\n\" id=\"DejaVuSans-48\"/>\n       </defs>\n       <use xlink:href=\"#DejaVuSans-49\"/>\n       <use x=\"63.623047\" xlink:href=\"#DejaVuSans-48\"/>\n       <use x=\"127.246094\" xlink:href=\"#DejaVuSans-48\"/>\n       <use x=\"190.869141\" xlink:href=\"#DejaVuSans-48\"/>\n      </g>\n     </g>\n    </g>\n    <g id=\"xtick_2\">\n     <g id=\"line2d_2\">\n      <g>\n       <use style=\"stroke:#000000;stroke-width:0.8;\" x=\"114.307678\" xlink:href=\"#m8b020d6e3a\" y=\"224.64\"/>\n      </g>\n     </g>\n     <g id=\"text_2\">\n      <!-- 1500 -->\n      <g transform=\"translate(101.582678 239.238437)scale(0.1 -0.1)\">\n       <defs>\n        <path d=\"M 10.796875 72.90625 \nL 49.515625 72.90625 \nL 49.515625 64.59375 \nL 19.828125 64.59375 \nL 19.828125 46.734375 \nQ 21.96875 47.46875 24.109375 47.828125 \nQ 26.265625 48.1875 28.421875 48.1875 \nQ 40.625 48.1875 47.75 41.5 \nQ 54.890625 34.8125 54.890625 23.390625 \nQ 54.890625 11.625 47.5625 5.09375 \nQ 40.234375 -1.421875 26.90625 -1.421875 \nQ 22.3125 -1.421875 17.546875 -0.640625 \nQ 12.796875 0.140625 7.71875 1.703125 \nL 7.71875 11.625 \nQ 12.109375 9.234375 16.796875 8.0625 \nQ 21.484375 6.890625 26.703125 6.890625 \nQ 35.15625 6.890625 40.078125 11.328125 \nQ 45.015625 15.765625 45.015625 23.390625 \nQ 45.015625 31 40.078125 35.4375 \nQ 35.15625 39.890625 26.703125 39.890625 \nQ 22.75 39.890625 18.8125 39.015625 \nQ 14.890625 38.140625 10.796875 36.28125 \nz\n\" id=\"DejaVuSans-53\"/>\n       </defs>\n       <use xlink:href=\"#DejaVuSans-49\"/>\n       <use x=\"63.623047\" xlink:href=\"#DejaVuSans-53\"/>\n       <use x=\"127.246094\" xlink:href=\"#DejaVuSans-48\"/>\n       <use x=\"190.869141\" xlink:href=\"#DejaVuSans-48\"/>\n      </g>\n     </g>\n    </g>\n    <g id=\"xtick_3\">\n     <g id=\"line2d_3\">\n      <g>\n       <use style=\"stroke:#000000;stroke-width:0.8;\" x=\"170.401235\" xlink:href=\"#m8b020d6e3a\" y=\"224.64\"/>\n      </g>\n     </g>\n     <g id=\"text_3\">\n      <!-- 2000 -->\n      <g transform=\"translate(157.676235 239.238437)scale(0.1 -0.1)\">\n       <defs>\n        <path d=\"M 19.1875 8.296875 \nL 53.609375 8.296875 \nL 53.609375 0 \nL 7.328125 0 \nL 7.328125 8.296875 \nQ 12.9375 14.109375 22.625 23.890625 \nQ 32.328125 33.6875 34.8125 36.53125 \nQ 39.546875 41.84375 41.421875 45.53125 \nQ 43.3125 49.21875 43.3125 52.78125 \nQ 43.3125 58.59375 39.234375 62.25 \nQ 35.15625 65.921875 28.609375 65.921875 \nQ 23.96875 65.921875 18.8125 64.3125 \nQ 13.671875 62.703125 7.8125 59.421875 \nL 7.8125 69.390625 \nQ 13.765625 71.78125 18.9375 73 \nQ 24.125 74.21875 28.421875 74.21875 \nQ 39.75 74.21875 46.484375 68.546875 \nQ 53.21875 62.890625 53.21875 53.421875 \nQ 53.21875 48.921875 51.53125 44.890625 \nQ 49.859375 40.875 45.40625 35.40625 \nQ 44.1875 33.984375 37.640625 27.21875 \nQ 31.109375 20.453125 19.1875 8.296875 \nz\n\" id=\"DejaVuSans-50\"/>\n       </defs>\n       <use xlink:href=\"#DejaVuSans-50\"/>\n       <use x=\"63.623047\" xlink:href=\"#DejaVuSans-48\"/>\n       <use x=\"127.246094\" xlink:href=\"#DejaVuSans-48\"/>\n       <use x=\"190.869141\" xlink:href=\"#DejaVuSans-48\"/>\n      </g>\n     </g>\n    </g>\n    <g id=\"xtick_4\">\n     <g id=\"line2d_4\">\n      <g>\n       <use style=\"stroke:#000000;stroke-width:0.8;\" x=\"226.494791\" xlink:href=\"#m8b020d6e3a\" y=\"224.64\"/>\n      </g>\n     </g>\n     <g id=\"text_4\">\n      <!-- 2500 -->\n      <g transform=\"translate(213.769791 239.238437)scale(0.1 -0.1)\">\n       <use xlink:href=\"#DejaVuSans-50\"/>\n       <use x=\"63.623047\" xlink:href=\"#DejaVuSans-53\"/>\n       <use x=\"127.246094\" xlink:href=\"#DejaVuSans-48\"/>\n       <use x=\"190.869141\" xlink:href=\"#DejaVuSans-48\"/>\n      </g>\n     </g>\n    </g>\n    <g id=\"xtick_5\">\n     <g id=\"line2d_5\">\n      <g>\n       <use style=\"stroke:#000000;stroke-width:0.8;\" x=\"282.588347\" xlink:href=\"#m8b020d6e3a\" y=\"224.64\"/>\n      </g>\n     </g>\n     <g id=\"text_5\">\n      <!-- 3000 -->\n      <g transform=\"translate(269.863347 239.238437)scale(0.1 -0.1)\">\n       <defs>\n        <path d=\"M 40.578125 39.3125 \nQ 47.65625 37.796875 51.625 33 \nQ 55.609375 28.21875 55.609375 21.1875 \nQ 55.609375 10.40625 48.1875 4.484375 \nQ 40.765625 -1.421875 27.09375 -1.421875 \nQ 22.515625 -1.421875 17.65625 -0.515625 \nQ 12.796875 0.390625 7.625 2.203125 \nL 7.625 11.71875 \nQ 11.71875 9.328125 16.59375 8.109375 \nQ 21.484375 6.890625 26.8125 6.890625 \nQ 36.078125 6.890625 40.9375 10.546875 \nQ 45.796875 14.203125 45.796875 21.1875 \nQ 45.796875 27.640625 41.28125 31.265625 \nQ 36.765625 34.90625 28.71875 34.90625 \nL 20.21875 34.90625 \nL 20.21875 43.015625 \nL 29.109375 43.015625 \nQ 36.375 43.015625 40.234375 45.921875 \nQ 44.09375 48.828125 44.09375 54.296875 \nQ 44.09375 59.90625 40.109375 62.90625 \nQ 36.140625 65.921875 28.71875 65.921875 \nQ 24.65625 65.921875 20.015625 65.03125 \nQ 15.375 64.15625 9.8125 62.3125 \nL 9.8125 71.09375 \nQ 15.4375 72.65625 20.34375 73.4375 \nQ 25.25 74.21875 29.59375 74.21875 \nQ 40.828125 74.21875 47.359375 69.109375 \nQ 53.90625 64.015625 53.90625 55.328125 \nQ 53.90625 49.265625 50.4375 45.09375 \nQ 46.96875 40.921875 40.578125 39.3125 \nz\n\" id=\"DejaVuSans-51\"/>\n       </defs>\n       <use xlink:href=\"#DejaVuSans-51\"/>\n       <use x=\"63.623047\" xlink:href=\"#DejaVuSans-48\"/>\n       <use x=\"127.246094\" xlink:href=\"#DejaVuSans-48\"/>\n       <use x=\"190.869141\" xlink:href=\"#DejaVuSans-48\"/>\n      </g>\n     </g>\n    </g>\n    <g id=\"xtick_6\">\n     <g id=\"line2d_6\">\n      <g>\n       <use style=\"stroke:#000000;stroke-width:0.8;\" x=\"338.681903\" xlink:href=\"#m8b020d6e3a\" y=\"224.64\"/>\n      </g>\n     </g>\n     <g id=\"text_6\">\n      <!-- 3500 -->\n      <g transform=\"translate(325.956903 239.238437)scale(0.1 -0.1)\">\n       <use xlink:href=\"#DejaVuSans-51\"/>\n       <use x=\"63.623047\" xlink:href=\"#DejaVuSans-53\"/>\n       <use x=\"127.246094\" xlink:href=\"#DejaVuSans-48\"/>\n       <use x=\"190.869141\" xlink:href=\"#DejaVuSans-48\"/>\n      </g>\n     </g>\n    </g>\n   </g>\n   <g id=\"matplotlib.axis_2\">\n    <g id=\"ytick_1\">\n     <g id=\"line2d_7\">\n      <defs>\n       <path d=\"M 0 0 \nL -3.5 0 \n\" id=\"m570fd3f76a\" style=\"stroke:#000000;stroke-width:0.8;\"/>\n      </defs>\n      <g>\n       <use style=\"stroke:#000000;stroke-width:0.8;\" x=\"43.78125\" xlink:href=\"#m570fd3f76a\" y=\"224.64\"/>\n      </g>\n     </g>\n     <g id=\"text_7\">\n      <!-- 0.0 -->\n      <g transform=\"translate(20.878125 228.439219)scale(0.1 -0.1)\">\n       <defs>\n        <path d=\"M 10.6875 12.40625 \nL 21 12.40625 \nL 21 0 \nL 10.6875 0 \nz\n\" id=\"DejaVuSans-46\"/>\n       </defs>\n       <use xlink:href=\"#DejaVuSans-48\"/>\n       <use x=\"63.623047\" xlink:href=\"#DejaVuSans-46\"/>\n       <use x=\"95.410156\" xlink:href=\"#DejaVuSans-48\"/>\n      </g>\n     </g>\n    </g>\n    <g id=\"ytick_2\">\n     <g id=\"line2d_8\">\n      <g>\n       <use style=\"stroke:#000000;stroke-width:0.8;\" x=\"43.78125\" xlink:href=\"#m570fd3f76a\" y=\"198.754286\"/>\n      </g>\n     </g>\n     <g id=\"text_8\">\n      <!-- 0.5 -->\n      <g transform=\"translate(20.878125 202.553504)scale(0.1 -0.1)\">\n       <use xlink:href=\"#DejaVuSans-48\"/>\n       <use x=\"63.623047\" xlink:href=\"#DejaVuSans-46\"/>\n       <use x=\"95.410156\" xlink:href=\"#DejaVuSans-53\"/>\n      </g>\n     </g>\n    </g>\n    <g id=\"ytick_3\">\n     <g id=\"line2d_9\">\n      <g>\n       <use style=\"stroke:#000000;stroke-width:0.8;\" x=\"43.78125\" xlink:href=\"#m570fd3f76a\" y=\"172.868571\"/>\n      </g>\n     </g>\n     <g id=\"text_9\">\n      <!-- 1.0 -->\n      <g transform=\"translate(20.878125 176.66779)scale(0.1 -0.1)\">\n       <use xlink:href=\"#DejaVuSans-49\"/>\n       <use x=\"63.623047\" xlink:href=\"#DejaVuSans-46\"/>\n       <use x=\"95.410156\" xlink:href=\"#DejaVuSans-48\"/>\n      </g>\n     </g>\n    </g>\n    <g id=\"ytick_4\">\n     <g id=\"line2d_10\">\n      <g>\n       <use style=\"stroke:#000000;stroke-width:0.8;\" x=\"43.78125\" xlink:href=\"#m570fd3f76a\" y=\"146.982857\"/>\n      </g>\n     </g>\n     <g id=\"text_10\">\n      <!-- 1.5 -->\n      <g transform=\"translate(20.878125 150.782076)scale(0.1 -0.1)\">\n       <use xlink:href=\"#DejaVuSans-49\"/>\n       <use x=\"63.623047\" xlink:href=\"#DejaVuSans-46\"/>\n       <use x=\"95.410156\" xlink:href=\"#DejaVuSans-53\"/>\n      </g>\n     </g>\n    </g>\n    <g id=\"ytick_5\">\n     <g id=\"line2d_11\">\n      <g>\n       <use style=\"stroke:#000000;stroke-width:0.8;\" x=\"43.78125\" xlink:href=\"#m570fd3f76a\" y=\"121.097143\"/>\n      </g>\n     </g>\n     <g id=\"text_11\">\n      <!-- 2.0 -->\n      <g transform=\"translate(20.878125 124.896362)scale(0.1 -0.1)\">\n       <use xlink:href=\"#DejaVuSans-50\"/>\n       <use x=\"63.623047\" xlink:href=\"#DejaVuSans-46\"/>\n       <use x=\"95.410156\" xlink:href=\"#DejaVuSans-48\"/>\n      </g>\n     </g>\n    </g>\n    <g id=\"ytick_6\">\n     <g id=\"line2d_12\">\n      <g>\n       <use style=\"stroke:#000000;stroke-width:0.8;\" x=\"43.78125\" xlink:href=\"#m570fd3f76a\" y=\"95.211429\"/>\n      </g>\n     </g>\n     <g id=\"text_12\">\n      <!-- 2.5 -->\n      <g transform=\"translate(20.878125 99.010647)scale(0.1 -0.1)\">\n       <use xlink:href=\"#DejaVuSans-50\"/>\n       <use x=\"63.623047\" xlink:href=\"#DejaVuSans-46\"/>\n       <use x=\"95.410156\" xlink:href=\"#DejaVuSans-53\"/>\n      </g>\n     </g>\n    </g>\n    <g id=\"ytick_7\">\n     <g id=\"line2d_13\">\n      <g>\n       <use style=\"stroke:#000000;stroke-width:0.8;\" x=\"43.78125\" xlink:href=\"#m570fd3f76a\" y=\"69.325714\"/>\n      </g>\n     </g>\n     <g id=\"text_13\">\n      <!-- 3.0 -->\n      <g transform=\"translate(20.878125 73.124933)scale(0.1 -0.1)\">\n       <use xlink:href=\"#DejaVuSans-51\"/>\n       <use x=\"63.623047\" xlink:href=\"#DejaVuSans-46\"/>\n       <use x=\"95.410156\" xlink:href=\"#DejaVuSans-48\"/>\n      </g>\n     </g>\n    </g>\n    <g id=\"ytick_8\">\n     <g id=\"line2d_14\">\n      <g>\n       <use style=\"stroke:#000000;stroke-width:0.8;\" x=\"43.78125\" xlink:href=\"#m570fd3f76a\" y=\"43.44\"/>\n      </g>\n     </g>\n     <g id=\"text_14\">\n      <!-- 3.5 -->\n      <g transform=\"translate(20.878125 47.239219)scale(0.1 -0.1)\">\n       <use xlink:href=\"#DejaVuSans-51\"/>\n       <use x=\"63.623047\" xlink:href=\"#DejaVuSans-46\"/>\n       <use x=\"95.410156\" xlink:href=\"#DejaVuSans-53\"/>\n      </g>\n     </g>\n    </g>\n    <g id=\"ytick_9\">\n     <g id=\"line2d_15\">\n      <g>\n       <use style=\"stroke:#000000;stroke-width:0.8;\" x=\"43.78125\" xlink:href=\"#m570fd3f76a\" y=\"17.554286\"/>\n      </g>\n     </g>\n     <g id=\"text_15\">\n      <!-- 4.0 -->\n      <g transform=\"translate(20.878125 21.353504)scale(0.1 -0.1)\">\n       <defs>\n        <path d=\"M 37.796875 64.3125 \nL 12.890625 25.390625 \nL 37.796875 25.390625 \nz\nM 35.203125 72.90625 \nL 47.609375 72.90625 \nL 47.609375 25.390625 \nL 58.015625 25.390625 \nL 58.015625 17.1875 \nL 47.609375 17.1875 \nL 47.609375 0 \nL 37.796875 0 \nL 37.796875 17.1875 \nL 4.890625 17.1875 \nL 4.890625 26.703125 \nz\n\" id=\"DejaVuSans-52\"/>\n       </defs>\n       <use xlink:href=\"#DejaVuSans-52\"/>\n       <use x=\"63.623047\" xlink:href=\"#DejaVuSans-46\"/>\n       <use x=\"95.410156\" xlink:href=\"#DejaVuSans-48\"/>\n      </g>\n     </g>\n    </g>\n    <g id=\"text_16\">\n     <!-- Frequency -->\n     <g transform=\"translate(14.798438 141.749687)rotate(-90)scale(0.1 -0.1)\">\n      <defs>\n       <path d=\"M 9.8125 72.90625 \nL 51.703125 72.90625 \nL 51.703125 64.59375 \nL 19.671875 64.59375 \nL 19.671875 43.109375 \nL 48.578125 43.109375 \nL 48.578125 34.8125 \nL 19.671875 34.8125 \nL 19.671875 0 \nL 9.8125 0 \nz\n\" id=\"DejaVuSans-70\"/>\n       <path d=\"M 41.109375 46.296875 \nQ 39.59375 47.171875 37.8125 47.578125 \nQ 36.03125 48 33.890625 48 \nQ 26.265625 48 22.1875 43.046875 \nQ 18.109375 38.09375 18.109375 28.8125 \nL 18.109375 0 \nL 9.078125 0 \nL 9.078125 54.6875 \nL 18.109375 54.6875 \nL 18.109375 46.1875 \nQ 20.953125 51.171875 25.484375 53.578125 \nQ 30.03125 56 36.53125 56 \nQ 37.453125 56 38.578125 55.875 \nQ 39.703125 55.765625 41.0625 55.515625 \nz\n\" id=\"DejaVuSans-114\"/>\n       <path d=\"M 56.203125 29.59375 \nL 56.203125 25.203125 \nL 14.890625 25.203125 \nQ 15.484375 15.921875 20.484375 11.0625 \nQ 25.484375 6.203125 34.421875 6.203125 \nQ 39.59375 6.203125 44.453125 7.46875 \nQ 49.3125 8.734375 54.109375 11.28125 \nL 54.109375 2.78125 \nQ 49.265625 0.734375 44.1875 -0.34375 \nQ 39.109375 -1.421875 33.890625 -1.421875 \nQ 20.796875 -1.421875 13.15625 6.1875 \nQ 5.515625 13.8125 5.515625 26.8125 \nQ 5.515625 40.234375 12.765625 48.109375 \nQ 20.015625 56 32.328125 56 \nQ 43.359375 56 49.78125 48.890625 \nQ 56.203125 41.796875 56.203125 29.59375 \nz\nM 47.21875 32.234375 \nQ 47.125 39.59375 43.09375 43.984375 \nQ 39.0625 48.390625 32.421875 48.390625 \nQ 24.90625 48.390625 20.390625 44.140625 \nQ 15.875 39.890625 15.1875 32.171875 \nz\n\" id=\"DejaVuSans-101\"/>\n       <path d=\"M 14.796875 27.296875 \nQ 14.796875 17.390625 18.875 11.75 \nQ 22.953125 6.109375 30.078125 6.109375 \nQ 37.203125 6.109375 41.296875 11.75 \nQ 45.40625 17.390625 45.40625 27.296875 \nQ 45.40625 37.203125 41.296875 42.84375 \nQ 37.203125 48.484375 30.078125 48.484375 \nQ 22.953125 48.484375 18.875 42.84375 \nQ 14.796875 37.203125 14.796875 27.296875 \nz\nM 45.40625 8.203125 \nQ 42.578125 3.328125 38.25 0.953125 \nQ 33.9375 -1.421875 27.875 -1.421875 \nQ 17.96875 -1.421875 11.734375 6.484375 \nQ 5.515625 14.40625 5.515625 27.296875 \nQ 5.515625 40.1875 11.734375 48.09375 \nQ 17.96875 56 27.875 56 \nQ 33.9375 56 38.25 53.625 \nQ 42.578125 51.265625 45.40625 46.390625 \nL 45.40625 54.6875 \nL 54.390625 54.6875 \nL 54.390625 -20.796875 \nL 45.40625 -20.796875 \nz\n\" id=\"DejaVuSans-113\"/>\n       <path d=\"M 8.5 21.578125 \nL 8.5 54.6875 \nL 17.484375 54.6875 \nL 17.484375 21.921875 \nQ 17.484375 14.15625 20.5 10.265625 \nQ 23.53125 6.390625 29.59375 6.390625 \nQ 36.859375 6.390625 41.078125 11.03125 \nQ 45.3125 15.671875 45.3125 23.6875 \nL 45.3125 54.6875 \nL 54.296875 54.6875 \nL 54.296875 0 \nL 45.3125 0 \nL 45.3125 8.40625 \nQ 42.046875 3.421875 37.71875 1 \nQ 33.40625 -1.421875 27.6875 -1.421875 \nQ 18.265625 -1.421875 13.375 4.4375 \nQ 8.5 10.296875 8.5 21.578125 \nz\nM 31.109375 56 \nz\n\" id=\"DejaVuSans-117\"/>\n       <path d=\"M 54.890625 33.015625 \nL 54.890625 0 \nL 45.90625 0 \nL 45.90625 32.71875 \nQ 45.90625 40.484375 42.875 44.328125 \nQ 39.84375 48.1875 33.796875 48.1875 \nQ 26.515625 48.1875 22.3125 43.546875 \nQ 18.109375 38.921875 18.109375 30.90625 \nL 18.109375 0 \nL 9.078125 0 \nL 9.078125 54.6875 \nL 18.109375 54.6875 \nL 18.109375 46.1875 \nQ 21.34375 51.125 25.703125 53.5625 \nQ 30.078125 56 35.796875 56 \nQ 45.21875 56 50.046875 50.171875 \nQ 54.890625 44.34375 54.890625 33.015625 \nz\n\" id=\"DejaVuSans-110\"/>\n       <path d=\"M 48.78125 52.59375 \nL 48.78125 44.1875 \nQ 44.96875 46.296875 41.140625 47.34375 \nQ 37.3125 48.390625 33.40625 48.390625 \nQ 24.65625 48.390625 19.8125 42.84375 \nQ 14.984375 37.3125 14.984375 27.296875 \nQ 14.984375 17.28125 19.8125 11.734375 \nQ 24.65625 6.203125 33.40625 6.203125 \nQ 37.3125 6.203125 41.140625 7.25 \nQ 44.96875 8.296875 48.78125 10.40625 \nL 48.78125 2.09375 \nQ 45.015625 0.34375 40.984375 -0.53125 \nQ 36.96875 -1.421875 32.421875 -1.421875 \nQ 20.0625 -1.421875 12.78125 6.34375 \nQ 5.515625 14.109375 5.515625 27.296875 \nQ 5.515625 40.671875 12.859375 48.328125 \nQ 20.21875 56 33.015625 56 \nQ 37.15625 56 41.109375 55.140625 \nQ 45.0625 54.296875 48.78125 52.59375 \nz\n\" id=\"DejaVuSans-99\"/>\n       <path d=\"M 32.171875 -5.078125 \nQ 28.375 -14.84375 24.75 -17.8125 \nQ 21.140625 -20.796875 15.09375 -20.796875 \nL 7.90625 -20.796875 \nL 7.90625 -13.28125 \nL 13.1875 -13.28125 \nQ 16.890625 -13.28125 18.9375 -11.515625 \nQ 21 -9.765625 23.484375 -3.21875 \nL 25.09375 0.875 \nL 2.984375 54.6875 \nL 12.5 54.6875 \nL 29.59375 11.921875 \nL 46.6875 54.6875 \nL 56.203125 54.6875 \nz\n\" id=\"DejaVuSans-121\"/>\n      </defs>\n      <use xlink:href=\"#DejaVuSans-70\"/>\n      <use x=\"50.269531\" xlink:href=\"#DejaVuSans-114\"/>\n      <use x=\"89.132812\" xlink:href=\"#DejaVuSans-101\"/>\n      <use x=\"150.65625\" xlink:href=\"#DejaVuSans-113\"/>\n      <use x=\"214.132812\" xlink:href=\"#DejaVuSans-117\"/>\n      <use x=\"277.511719\" xlink:href=\"#DejaVuSans-101\"/>\n      <use x=\"339.035156\" xlink:href=\"#DejaVuSans-110\"/>\n      <use x=\"402.414062\" xlink:href=\"#DejaVuSans-99\"/>\n      <use x=\"457.394531\" xlink:href=\"#DejaVuSans-121\"/>\n     </g>\n    </g>\n   </g>\n   <g id=\"patch_13\">\n    <path d=\"M 43.78125 224.64 \nL 43.78125 7.2 \n\" style=\"fill:none;stroke:#000000;stroke-linecap:square;stroke-linejoin:miter;stroke-width:0.8;\"/>\n   </g>\n   <g id=\"patch_14\">\n    <path d=\"M 378.58125 224.64 \nL 378.58125 7.2 \n\" style=\"fill:none;stroke:#000000;stroke-linecap:square;stroke-linejoin:miter;stroke-width:0.8;\"/>\n   </g>\n   <g id=\"patch_15\">\n    <path d=\"M 43.78125 224.64 \nL 378.58125 224.64 \n\" style=\"fill:none;stroke:#000000;stroke-linecap:square;stroke-linejoin:miter;stroke-width:0.8;\"/>\n   </g>\n   <g id=\"patch_16\">\n    <path d=\"M 43.78125 7.2 \nL 378.58125 7.2 \n\" style=\"fill:none;stroke:#000000;stroke-linecap:square;stroke-linejoin:miter;stroke-width:0.8;\"/>\n   </g>\n  </g>\n </g>\n <defs>\n  <clipPath id=\"pc4a0a661ce\">\n   <rect height=\"217.44\" width=\"334.8\" x=\"43.78125\" y=\"7.2\"/>\n  </clipPath>\n </defs>\n</svg>\n",
      "image/png": "[encoded data removed]"
     },
     "metadata": {
      "needs_background": "light"
     }
    }
   ],
   "source": [
    "y_test.plot.hist()"
   ]
  },
  {
   "cell_type": "markdown",
   "metadata": {},
   "source": [
    "# Modelagem"
   ]
  },
  {
   "cell_type": "code",
   "execution_count": 26,
   "metadata": {},
   "outputs": [],
   "source": [
    "from sklearn.linear_model import ElasticNetCV, LinearRegression\n",
    "from sklearn.metrics import mean_absolute_error, mean_squared_error"
   ]
  },
  {
   "cell_type": "code",
   "execution_count": null,
   "metadata": {},
   "outputs": [],
   "source": []
  },
  {
   "cell_type": "code",
   "execution_count": null,
   "metadata": {},
   "outputs": [],
   "source": []
  },
  {
   "cell_type": "code",
   "execution_count": null,
   "metadata": {},
   "outputs": [],
   "source": []
  },
  {
   "cell_type": "code",
   "execution_count": null,
   "metadata": {},
   "outputs": [],
   "source": []
  },
  {
   "cell_type": "code",
   "execution_count": null,
   "metadata": {},
   "outputs": [],
   "source": []
  },
  {
   "cell_type": "code",
   "execution_count": null,
   "metadata": {},
   "outputs": [],
   "source": []
  }
 ],
 "metadata": {
  "kernelspec": {
   "display_name": "Python 3",
   "language": "python",
   "name": "python3"
  },
  "language_info": {
   "codemirror_mode": {
    "name": "ipython",
    "version": 3
   },
   "file_extension": ".py",
   "mimetype": "text/x-python",
   "name": "python",
   "nbconvert_exporter": "python",
   "pygments_lexer": "ipython3",
   "version": "3.7.9-final"
  },
  "toc": {
   "base_numbering": 1,
   "nav_menu": {},
   "number_sections": true,
   "sideBar": true,
   "skip_h1_title": false,
   "title_cell": "Table of Contents",
   "title_sidebar": "Contents",
   "toc_cell": false,
   "toc_position": {
    "height": "calc(100% - 180px)",
    "left": "10px",
    "top": "150px",
    "width": "174px"
   },
   "toc_section_display": true,
   "toc_window_display": true
  }
 },
 "nbformat": 4,
 "nbformat_minor": 4
}